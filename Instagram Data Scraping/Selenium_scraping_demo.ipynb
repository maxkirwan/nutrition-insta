{
 "cells": [
  {
   "cell_type": "markdown",
   "id": "17f6729b",
   "metadata": {},
   "source": [
    "# First attempt at scraping Instagram using selenium web driver\n",
    "\n",
    "Using the following tutorials:\n",
    "\n",
    "https://medium.com/analytics-vidhya/web-scraping-instagram-with-selenium-b6b1f27b885\n",
    "\n",
    "\n",
    "https://dev.to/chrisgreening/scraping-every-post-on-an-instagram-profile-with-less-than-10-lines-of-python-1n8b\n"
   ]
  },
  {
   "cell_type": "code",
   "execution_count": 24,
   "id": "7e8a0304",
   "metadata": {},
   "outputs": [],
   "source": [
    "# using selenium for web scraping\n",
    "from selenium import webdriver\n",
    "from selenium.webdriver.chrome.service import Service"
   ]
  },
  {
   "cell_type": "code",
   "execution_count": 25,
   "id": "a09708c5",
   "metadata": {},
   "outputs": [],
   "source": [
    "#specify the path to chromedriver.exe\n",
    "service = Service('/Users/maxkirwan/Downloads/chromedriver')\n",
    "driver = webdriver.Chrome(service=service)\n",
    "\n",
    "#open the instagram webpage\n",
    "driver.get(\"http://www.instagram.com\")"
   ]
  },
  {
   "cell_type": "code",
   "execution_count": 3,
   "id": "2c669e73",
   "metadata": {},
   "outputs": [],
   "source": [
    "# using instascrape to scrape insta posts\n",
    "from instascrape import Profile"
   ]
  },
  {
   "cell_type": "code",
   "execution_count": null,
   "id": "f6264ab8",
   "metadata": {},
   "outputs": [],
   "source": [
    "'Mozilla/5.0 (Macintosh; Intel Mac OS X 10_15_7) AppleWebKit/605.1.15 (KHTML, like Gecko) Version/15.3 Safari/605.1.15'"
   ]
  },
  {
   "cell_type": "code",
   "execution_count": 8,
   "id": "0d9f28c4",
   "metadata": {},
   "outputs": [
    {
     "ename": "JSONDecodeError",
     "evalue": "Expecting property name enclosed in double quotes: line 1 column 2 (char 1)",
     "output_type": "error",
     "traceback": [
      "\u001b[0;31m---------------------------------------------------------------------------\u001b[0m",
      "\u001b[0;31mJSONDecodeError\u001b[0m                           Traceback (most recent call last)",
      "Input \u001b[0;32mIn [8]\u001b[0m, in \u001b[0;36m<module>\u001b[0;34m\u001b[0m\n\u001b[1;32m      3\u001b[0m headers \u001b[38;5;241m=\u001b[39m {\u001b[38;5;124m\"\u001b[39m\u001b[38;5;124muser-agent\u001b[39m\u001b[38;5;124m\"\u001b[39m: \u001b[38;5;124m\"\u001b[39m\u001b[38;5;124mMozilla/5.0 (Linux; Android 6.0; Nexus 5 Build/MRA58N) AppleWebKit/537.36 (KHTML, like Gecko) Chrome/87.0.4280.88 Mobile Safari/537.36 Edg/87.0.664.57\u001b[39m\u001b[38;5;124m\"\u001b[39m,\n\u001b[1;32m      4\u001b[0m            \u001b[38;5;124m\"\u001b[39m\u001b[38;5;124mcookie\u001b[39m\u001b[38;5;124m\"\u001b[39m: \u001b[38;5;124mf\u001b[39m\u001b[38;5;124m\"\u001b[39m\u001b[38;5;124msessionid=\u001b[39m\u001b[38;5;132;01m{\u001b[39;00mSESSIONID\u001b[38;5;132;01m}\u001b[39;00m\u001b[38;5;124m;\u001b[39m\u001b[38;5;124m\"\u001b[39m}\n\u001b[1;32m      5\u001b[0m mob \u001b[38;5;241m=\u001b[39m Profile(\u001b[38;5;124m\"\u001b[39m\u001b[38;5;124mmob\u001b[39m\u001b[38;5;124m\"\u001b[39m)\n\u001b[0;32m----> 6\u001b[0m \u001b[43mmob\u001b[49m\u001b[38;5;241;43m.\u001b[39;49m\u001b[43mscrape\u001b[49m\u001b[43m(\u001b[49m\u001b[43mheaders\u001b[49m\u001b[38;5;241;43m=\u001b[39;49m\u001b[43mheaders\u001b[49m\u001b[43m)\u001b[49m\n",
      "File \u001b[0;32m~/opt/miniconda3/envs/data_analytics/lib/python3.9/site-packages/instascrape/core/_static_scraper.py:144\u001b[0m, in \u001b[0;36m_StaticHtmlScraper.scrape\u001b[0;34m(self, mapping, keys, exclude, headers, inplace, session, webdriver)\u001b[0m\n\u001b[1;32m    142\u001b[0m     scraped_dict \u001b[38;5;241m=\u001b[39m \u001b[38;5;28mself\u001b[39m\u001b[38;5;241m.\u001b[39msource\u001b[38;5;241m.\u001b[39mto_dict()\n\u001b[1;32m    143\u001b[0m \u001b[38;5;28;01melse\u001b[39;00m:\n\u001b[0;32m--> 144\u001b[0m     return_data \u001b[38;5;241m=\u001b[39m \u001b[38;5;28;43mself\u001b[39;49m\u001b[38;5;241;43m.\u001b[39;49m\u001b[43m_get_json_from_source\u001b[49m\u001b[43m(\u001b[49m\u001b[38;5;28;43mself\u001b[39;49m\u001b[38;5;241;43m.\u001b[39;49m\u001b[43msource\u001b[49m\u001b[43m,\u001b[49m\u001b[43m \u001b[49m\u001b[43mheaders\u001b[49m\u001b[38;5;241;43m=\u001b[39;49m\u001b[43mheaders\u001b[49m\u001b[43m,\u001b[49m\u001b[43m \u001b[49m\u001b[43msession\u001b[49m\u001b[38;5;241;43m=\u001b[39;49m\u001b[43msession\u001b[49m\u001b[43m)\u001b[49m\n\u001b[1;32m    145\u001b[0m     flat_json_dict \u001b[38;5;241m=\u001b[39m flatten_dict(return_data[\u001b[38;5;124m\"\u001b[39m\u001b[38;5;124mjson_dict\u001b[39m\u001b[38;5;124m\"\u001b[39m])\n\u001b[1;32m    147\u001b[0m     \u001b[38;5;66;03m#HACK: patch mapping to fix the profile pic scrape when a sessionid is present\u001b[39;00m\n",
      "File \u001b[0;32m~/opt/miniconda3/envs/data_analytics/lib/python3.9/site-packages/instascrape/core/_static_scraper.py:260\u001b[0m, in \u001b[0;36m_StaticHtmlScraper._get_json_from_source\u001b[0;34m(self, source, headers, session)\u001b[0m\n\u001b[1;32m    258\u001b[0m \u001b[38;5;28;01mif\u001b[39;00m initial_type:\n\u001b[1;32m    259\u001b[0m     soup \u001b[38;5;241m=\u001b[39m \u001b[38;5;28mself\u001b[39m\u001b[38;5;241m.\u001b[39msource\n\u001b[0;32m--> 260\u001b[0m json_dict_arr \u001b[38;5;241m=\u001b[39m \u001b[43mjson_from_soup\u001b[49m\u001b[43m(\u001b[49m\u001b[43msoup\u001b[49m\u001b[43m)\u001b[49m\n\u001b[1;32m    261\u001b[0m \u001b[38;5;28;01mif\u001b[39;00m \u001b[38;5;28mlen\u001b[39m(json_dict_arr) \u001b[38;5;241m==\u001b[39m \u001b[38;5;241m1\u001b[39m:\n\u001b[1;32m    262\u001b[0m     json_dict \u001b[38;5;241m=\u001b[39m json_dict_arr[\u001b[38;5;241m0\u001b[39m]\n",
      "File \u001b[0;32m~/opt/miniconda3/envs/data_analytics/lib/python3.9/site-packages/instascrape/scrapers/scrape_tools.py:94\u001b[0m, in \u001b[0;36mjson_from_soup\u001b[0;34m(source, as_dict, flatten)\u001b[0m\n\u001b[1;32m     91\u001b[0m json_data \u001b[38;5;241m=\u001b[39m _parse_json_str(source\u001b[38;5;241m=\u001b[39msource)\n\u001b[1;32m     93\u001b[0m \u001b[38;5;28;01mif\u001b[39;00m as_dict:\n\u001b[0;32m---> 94\u001b[0m     json_data \u001b[38;5;241m=\u001b[39m [json\u001b[38;5;241m.\u001b[39mloads(json_str) \u001b[38;5;28;01mfor\u001b[39;00m json_str \u001b[38;5;129;01min\u001b[39;00m json_data]\n\u001b[1;32m     95\u001b[0m \u001b[38;5;28;01mif\u001b[39;00m flatten:\n\u001b[1;32m     96\u001b[0m     json_data \u001b[38;5;241m=\u001b[39m [flatten_dict(json_dict) \u001b[38;5;28;01mfor\u001b[39;00m json_dict \u001b[38;5;129;01min\u001b[39;00m json_data]\n",
      "File \u001b[0;32m~/opt/miniconda3/envs/data_analytics/lib/python3.9/site-packages/instascrape/scrapers/scrape_tools.py:94\u001b[0m, in \u001b[0;36m<listcomp>\u001b[0;34m(.0)\u001b[0m\n\u001b[1;32m     91\u001b[0m json_data \u001b[38;5;241m=\u001b[39m _parse_json_str(source\u001b[38;5;241m=\u001b[39msource)\n\u001b[1;32m     93\u001b[0m \u001b[38;5;28;01mif\u001b[39;00m as_dict:\n\u001b[0;32m---> 94\u001b[0m     json_data \u001b[38;5;241m=\u001b[39m [\u001b[43mjson\u001b[49m\u001b[38;5;241;43m.\u001b[39;49m\u001b[43mloads\u001b[49m\u001b[43m(\u001b[49m\u001b[43mjson_str\u001b[49m\u001b[43m)\u001b[49m \u001b[38;5;28;01mfor\u001b[39;00m json_str \u001b[38;5;129;01min\u001b[39;00m json_data]\n\u001b[1;32m     95\u001b[0m \u001b[38;5;28;01mif\u001b[39;00m flatten:\n\u001b[1;32m     96\u001b[0m     json_data \u001b[38;5;241m=\u001b[39m [flatten_dict(json_dict) \u001b[38;5;28;01mfor\u001b[39;00m json_dict \u001b[38;5;129;01min\u001b[39;00m json_data]\n",
      "File \u001b[0;32m~/opt/miniconda3/envs/data_analytics/lib/python3.9/json/__init__.py:346\u001b[0m, in \u001b[0;36mloads\u001b[0;34m(s, cls, object_hook, parse_float, parse_int, parse_constant, object_pairs_hook, **kw)\u001b[0m\n\u001b[1;32m    341\u001b[0m     s \u001b[38;5;241m=\u001b[39m s\u001b[38;5;241m.\u001b[39mdecode(detect_encoding(s), \u001b[38;5;124m'\u001b[39m\u001b[38;5;124msurrogatepass\u001b[39m\u001b[38;5;124m'\u001b[39m)\n\u001b[1;32m    343\u001b[0m \u001b[38;5;28;01mif\u001b[39;00m (\u001b[38;5;28mcls\u001b[39m \u001b[38;5;129;01mis\u001b[39;00m \u001b[38;5;28;01mNone\u001b[39;00m \u001b[38;5;129;01mand\u001b[39;00m object_hook \u001b[38;5;129;01mis\u001b[39;00m \u001b[38;5;28;01mNone\u001b[39;00m \u001b[38;5;129;01mand\u001b[39;00m\n\u001b[1;32m    344\u001b[0m         parse_int \u001b[38;5;129;01mis\u001b[39;00m \u001b[38;5;28;01mNone\u001b[39;00m \u001b[38;5;129;01mand\u001b[39;00m parse_float \u001b[38;5;129;01mis\u001b[39;00m \u001b[38;5;28;01mNone\u001b[39;00m \u001b[38;5;129;01mand\u001b[39;00m\n\u001b[1;32m    345\u001b[0m         parse_constant \u001b[38;5;129;01mis\u001b[39;00m \u001b[38;5;28;01mNone\u001b[39;00m \u001b[38;5;129;01mand\u001b[39;00m object_pairs_hook \u001b[38;5;129;01mis\u001b[39;00m \u001b[38;5;28;01mNone\u001b[39;00m \u001b[38;5;129;01mand\u001b[39;00m \u001b[38;5;129;01mnot\u001b[39;00m kw):\n\u001b[0;32m--> 346\u001b[0m     \u001b[38;5;28;01mreturn\u001b[39;00m \u001b[43m_default_decoder\u001b[49m\u001b[38;5;241;43m.\u001b[39;49m\u001b[43mdecode\u001b[49m\u001b[43m(\u001b[49m\u001b[43ms\u001b[49m\u001b[43m)\u001b[49m\n\u001b[1;32m    347\u001b[0m \u001b[38;5;28;01mif\u001b[39;00m \u001b[38;5;28mcls\u001b[39m \u001b[38;5;129;01mis\u001b[39;00m \u001b[38;5;28;01mNone\u001b[39;00m:\n\u001b[1;32m    348\u001b[0m     \u001b[38;5;28mcls\u001b[39m \u001b[38;5;241m=\u001b[39m JSONDecoder\n",
      "File \u001b[0;32m~/opt/miniconda3/envs/data_analytics/lib/python3.9/json/decoder.py:337\u001b[0m, in \u001b[0;36mJSONDecoder.decode\u001b[0;34m(self, s, _w)\u001b[0m\n\u001b[1;32m    332\u001b[0m \u001b[38;5;28;01mdef\u001b[39;00m \u001b[38;5;21mdecode\u001b[39m(\u001b[38;5;28mself\u001b[39m, s, _w\u001b[38;5;241m=\u001b[39mWHITESPACE\u001b[38;5;241m.\u001b[39mmatch):\n\u001b[1;32m    333\u001b[0m     \u001b[38;5;124;03m\"\"\"Return the Python representation of ``s`` (a ``str`` instance\u001b[39;00m\n\u001b[1;32m    334\u001b[0m \u001b[38;5;124;03m    containing a JSON document).\u001b[39;00m\n\u001b[1;32m    335\u001b[0m \n\u001b[1;32m    336\u001b[0m \u001b[38;5;124;03m    \"\"\"\u001b[39;00m\n\u001b[0;32m--> 337\u001b[0m     obj, end \u001b[38;5;241m=\u001b[39m \u001b[38;5;28;43mself\u001b[39;49m\u001b[38;5;241;43m.\u001b[39;49m\u001b[43mraw_decode\u001b[49m\u001b[43m(\u001b[49m\u001b[43ms\u001b[49m\u001b[43m,\u001b[49m\u001b[43m \u001b[49m\u001b[43midx\u001b[49m\u001b[38;5;241;43m=\u001b[39;49m\u001b[43m_w\u001b[49m\u001b[43m(\u001b[49m\u001b[43ms\u001b[49m\u001b[43m,\u001b[49m\u001b[43m \u001b[49m\u001b[38;5;241;43m0\u001b[39;49m\u001b[43m)\u001b[49m\u001b[38;5;241;43m.\u001b[39;49m\u001b[43mend\u001b[49m\u001b[43m(\u001b[49m\u001b[43m)\u001b[49m\u001b[43m)\u001b[49m\n\u001b[1;32m    338\u001b[0m     end \u001b[38;5;241m=\u001b[39m _w(s, end)\u001b[38;5;241m.\u001b[39mend()\n\u001b[1;32m    339\u001b[0m     \u001b[38;5;28;01mif\u001b[39;00m end \u001b[38;5;241m!=\u001b[39m \u001b[38;5;28mlen\u001b[39m(s):\n",
      "File \u001b[0;32m~/opt/miniconda3/envs/data_analytics/lib/python3.9/json/decoder.py:353\u001b[0m, in \u001b[0;36mJSONDecoder.raw_decode\u001b[0;34m(self, s, idx)\u001b[0m\n\u001b[1;32m    344\u001b[0m \u001b[38;5;124;03m\"\"\"Decode a JSON document from ``s`` (a ``str`` beginning with\u001b[39;00m\n\u001b[1;32m    345\u001b[0m \u001b[38;5;124;03ma JSON document) and return a 2-tuple of the Python\u001b[39;00m\n\u001b[1;32m    346\u001b[0m \u001b[38;5;124;03mrepresentation and the index in ``s`` where the document ended.\u001b[39;00m\n\u001b[0;32m   (...)\u001b[0m\n\u001b[1;32m    350\u001b[0m \n\u001b[1;32m    351\u001b[0m \u001b[38;5;124;03m\"\"\"\u001b[39;00m\n\u001b[1;32m    352\u001b[0m \u001b[38;5;28;01mtry\u001b[39;00m:\n\u001b[0;32m--> 353\u001b[0m     obj, end \u001b[38;5;241m=\u001b[39m \u001b[38;5;28;43mself\u001b[39;49m\u001b[38;5;241;43m.\u001b[39;49m\u001b[43mscan_once\u001b[49m\u001b[43m(\u001b[49m\u001b[43ms\u001b[49m\u001b[43m,\u001b[49m\u001b[43m \u001b[49m\u001b[43midx\u001b[49m\u001b[43m)\u001b[49m\n\u001b[1;32m    354\u001b[0m \u001b[38;5;28;01mexcept\u001b[39;00m \u001b[38;5;167;01mStopIteration\u001b[39;00m \u001b[38;5;28;01mas\u001b[39;00m err:\n\u001b[1;32m    355\u001b[0m     \u001b[38;5;28;01mraise\u001b[39;00m JSONDecodeError(\u001b[38;5;124m\"\u001b[39m\u001b[38;5;124mExpecting value\u001b[39m\u001b[38;5;124m\"\u001b[39m, s, err\u001b[38;5;241m.\u001b[39mvalue) \u001b[38;5;28;01mfrom\u001b[39;00m \u001b[38;5;28mNone\u001b[39m\n",
      "\u001b[0;31mJSONDecodeError\u001b[0m: Expecting property name enclosed in double quotes: line 1 column 2 (char 1)"
     ]
    }
   ],
   "source": [
    "# Scraping Mob's profile\n",
    "SESSIONID = '53805564042%3AR3JhVo0cnMgiwo%3A19%3AAYerwqcUIVXZ9aRK1cjFklIYp5D3vPUrK263hdJgwQ'\n",
    "headers = {\"user-agent\": \"Mozilla/5.0 (Linux; Android 6.0; Nexus 5 Build/MRA58N) AppleWebKit/537.36 (KHTML, like Gecko) Chrome/87.0.4280.88 Mobile Safari/537.36 Edg/87.0.664.57\",\n",
    "           \"cookie\": f\"sessionid={SESSIONID};\"}\n",
    "mob = Profile(\"mob\")\n",
    "mob.scrape(headers=headers)"
   ]
  },
  {
   "cell_type": "markdown",
   "id": "257b31b5",
   "metadata": {},
   "source": [
    "### Attempt no. 2\n",
    "\n",
    "Now trying to webscrape following this tutorial on corgis:\n",
    "\n",
    "https://medium.com/swlh/tutorial-web-scraping-instagrams-most-precious-resource-corgis-235bf0389b0c"
   ]
  },
  {
   "cell_type": "code",
   "execution_count": 9,
   "id": "6e3ff691",
   "metadata": {},
   "outputs": [],
   "source": [
    "service = Service('/Users/maxkirwan/Downloads/chromedriver')\n",
    "driver = webdriver.Chrome(service=service)\n",
    "\n",
    "driver.get(\"http://www.instagram.com\")"
   ]
  },
  {
   "cell_type": "code",
   "execution_count": 10,
   "id": "126200e0",
   "metadata": {},
   "outputs": [
    {
     "data": {
      "text/plain": [
       "[<selenium.webdriver.remote.webelement.WebElement (session=\"4aa947555083c8e41f143b8b3f172e04\", element=\"a3a384f0-148a-4554-8116-1d3fd8a768f7\")>,\n",
       " <selenium.webdriver.remote.webelement.WebElement (session=\"4aa947555083c8e41f143b8b3f172e04\", element=\"96f9e122-6c9a-44ee-85e8-f21a2bd931a6\")>,\n",
       " <selenium.webdriver.remote.webelement.WebElement (session=\"4aa947555083c8e41f143b8b3f172e04\", element=\"277c0663-158e-4a0b-a497-d0317bf23572\")>,\n",
       " <selenium.webdriver.remote.webelement.WebElement (session=\"4aa947555083c8e41f143b8b3f172e04\", element=\"35d45ee4-bd22-41eb-aed9-5a653375239d\")>,\n",
       " <selenium.webdriver.remote.webelement.WebElement (session=\"4aa947555083c8e41f143b8b3f172e04\", element=\"48b3d16f-7c44-4a36-8044-1c13e6571eec\")>,\n",
       " <selenium.webdriver.remote.webelement.WebElement (session=\"4aa947555083c8e41f143b8b3f172e04\", element=\"1261a558-c3c3-4ac6-bd1c-7b9f940c6139\")>,\n",
       " <selenium.webdriver.remote.webelement.WebElement (session=\"4aa947555083c8e41f143b8b3f172e04\", element=\"43ec8860-11b7-44d9-90f2-b52a21026c3f\")>,\n",
       " <selenium.webdriver.remote.webelement.WebElement (session=\"4aa947555083c8e41f143b8b3f172e04\", element=\"e5a10048-fb0e-4823-ae96-430e54ca24b7\")>,\n",
       " <selenium.webdriver.remote.webelement.WebElement (session=\"4aa947555083c8e41f143b8b3f172e04\", element=\"7c890019-bb59-407a-b6f2-dd7958b337ef\")>,\n",
       " <selenium.webdriver.remote.webelement.WebElement (session=\"4aa947555083c8e41f143b8b3f172e04\", element=\"0b092d95-6a54-4b3b-8d43-d23761facdd1\")>,\n",
       " <selenium.webdriver.remote.webelement.WebElement (session=\"4aa947555083c8e41f143b8b3f172e04\", element=\"cdc1cab2-3d77-4032-8fba-8588fb19c524\")>,\n",
       " <selenium.webdriver.remote.webelement.WebElement (session=\"4aa947555083c8e41f143b8b3f172e04\", element=\"a2c49685-75b9-4b0f-9123-5d9b9a99f5cd\")>,\n",
       " <selenium.webdriver.remote.webelement.WebElement (session=\"4aa947555083c8e41f143b8b3f172e04\", element=\"e4eff619-4a8d-45ff-ab79-da878e759605\")>,\n",
       " <selenium.webdriver.remote.webelement.WebElement (session=\"4aa947555083c8e41f143b8b3f172e04\", element=\"9cd76c00-f36a-43cf-aef4-5a72ea0c4981\")>,\n",
       " <selenium.webdriver.remote.webelement.WebElement (session=\"4aa947555083c8e41f143b8b3f172e04\", element=\"b01305ba-ba89-4631-ba73-eb479727f2cc\")>,\n",
       " <selenium.webdriver.remote.webelement.WebElement (session=\"4aa947555083c8e41f143b8b3f172e04\", element=\"28415c7b-e255-4496-aef9-0b5189793ba3\")>,\n",
       " <selenium.webdriver.remote.webelement.WebElement (session=\"4aa947555083c8e41f143b8b3f172e04\", element=\"ad52686a-f1d4-47be-b705-5f217b9aeae1\")>,\n",
       " <selenium.webdriver.remote.webelement.WebElement (session=\"4aa947555083c8e41f143b8b3f172e04\", element=\"6cf66c84-4644-4e6f-ad38-7259c077978f\")>,\n",
       " <selenium.webdriver.remote.webelement.WebElement (session=\"4aa947555083c8e41f143b8b3f172e04\", element=\"d300b472-feb9-4b18-84f3-e2204d525bcd\")>,\n",
       " <selenium.webdriver.remote.webelement.WebElement (session=\"4aa947555083c8e41f143b8b3f172e04\", element=\"38aedd51-6ac8-4814-9d59-5d4360a03108\")>,\n",
       " <selenium.webdriver.remote.webelement.WebElement (session=\"4aa947555083c8e41f143b8b3f172e04\", element=\"a6f1f262-1b91-4ffb-b85e-355ea0c1dcef\")>,\n",
       " <selenium.webdriver.remote.webelement.WebElement (session=\"4aa947555083c8e41f143b8b3f172e04\", element=\"55e6bfd0-036f-4b6b-bb18-005223b66787\")>,\n",
       " <selenium.webdriver.remote.webelement.WebElement (session=\"4aa947555083c8e41f143b8b3f172e04\", element=\"0eb94a20-f621-4ea2-ae77-7f5e1afe838e\")>,\n",
       " <selenium.webdriver.remote.webelement.WebElement (session=\"4aa947555083c8e41f143b8b3f172e04\", element=\"9d7642a4-4e40-42e6-b218-68dc7e2807eb\")>,\n",
       " <selenium.webdriver.remote.webelement.WebElement (session=\"4aa947555083c8e41f143b8b3f172e04\", element=\"59619c44-2239-41f8-bede-3b9139ad7e70\")>,\n",
       " <selenium.webdriver.remote.webelement.WebElement (session=\"4aa947555083c8e41f143b8b3f172e04\", element=\"2e778066-a094-4282-a76c-c14002b3ad94\")>,\n",
       " <selenium.webdriver.remote.webelement.WebElement (session=\"4aa947555083c8e41f143b8b3f172e04\", element=\"55f7f719-a6f1-40ed-b3b2-a77576b92f84\")>,\n",
       " <selenium.webdriver.remote.webelement.WebElement (session=\"4aa947555083c8e41f143b8b3f172e04\", element=\"144b576b-9eee-4580-a642-536aa9ee1c1f\")>,\n",
       " <selenium.webdriver.remote.webelement.WebElement (session=\"4aa947555083c8e41f143b8b3f172e04\", element=\"70ab7dc3-c095-49aa-84f1-e9f1c59fe205\")>,\n",
       " <selenium.webdriver.remote.webelement.WebElement (session=\"4aa947555083c8e41f143b8b3f172e04\", element=\"db425287-e381-4ad2-8e23-c33049465ff1\")>,\n",
       " <selenium.webdriver.remote.webelement.WebElement (session=\"4aa947555083c8e41f143b8b3f172e04\", element=\"4905afce-db98-40bb-953b-d061460da301\")>,\n",
       " <selenium.webdriver.remote.webelement.WebElement (session=\"4aa947555083c8e41f143b8b3f172e04\", element=\"dae7db89-ff4f-49da-8278-554efbc9e231\")>,\n",
       " <selenium.webdriver.remote.webelement.WebElement (session=\"4aa947555083c8e41f143b8b3f172e04\", element=\"1f9a94bd-9765-4450-b3a3-a8ddf4512f68\")>,\n",
       " <selenium.webdriver.remote.webelement.WebElement (session=\"4aa947555083c8e41f143b8b3f172e04\", element=\"0f265160-83a5-4424-a341-a043757e1af2\")>,\n",
       " <selenium.webdriver.remote.webelement.WebElement (session=\"4aa947555083c8e41f143b8b3f172e04\", element=\"88b4e746-3f85-49db-8f2c-f170a6ca13e9\")>,\n",
       " <selenium.webdriver.remote.webelement.WebElement (session=\"4aa947555083c8e41f143b8b3f172e04\", element=\"8f7fecf0-073b-40b0-b976-05467b03628d\")>,\n",
       " <selenium.webdriver.remote.webelement.WebElement (session=\"4aa947555083c8e41f143b8b3f172e04\", element=\"777aa08f-7909-4628-aec4-fe5787f58b5e\")>,\n",
       " <selenium.webdriver.remote.webelement.WebElement (session=\"4aa947555083c8e41f143b8b3f172e04\", element=\"10961ab1-defc-4193-813b-081a7a61d520\")>,\n",
       " <selenium.webdriver.remote.webelement.WebElement (session=\"4aa947555083c8e41f143b8b3f172e04\", element=\"97eb75e1-ec4d-4f1e-9341-8013c1c75c75\")>,\n",
       " <selenium.webdriver.remote.webelement.WebElement (session=\"4aa947555083c8e41f143b8b3f172e04\", element=\"c9ae0148-6454-4bff-a8ad-8af373bf06de\")>,\n",
       " <selenium.webdriver.remote.webelement.WebElement (session=\"4aa947555083c8e41f143b8b3f172e04\", element=\"39e7cd69-81ef-4709-a4a9-fd9788ff3cce\")>,\n",
       " <selenium.webdriver.remote.webelement.WebElement (session=\"4aa947555083c8e41f143b8b3f172e04\", element=\"4565507b-9d2a-43f7-a12e-4dd6619bfe83\")>,\n",
       " <selenium.webdriver.remote.webelement.WebElement (session=\"4aa947555083c8e41f143b8b3f172e04\", element=\"22a345e6-b68c-4a4d-8ecf-da842b09746d\")>,\n",
       " <selenium.webdriver.remote.webelement.WebElement (session=\"4aa947555083c8e41f143b8b3f172e04\", element=\"188a9b3b-7d24-45eb-b537-6afb7f824cb5\")>,\n",
       " <selenium.webdriver.remote.webelement.WebElement (session=\"4aa947555083c8e41f143b8b3f172e04\", element=\"c88aafcf-4089-4463-b886-3591084d9ad0\")>,\n",
       " <selenium.webdriver.remote.webelement.WebElement (session=\"4aa947555083c8e41f143b8b3f172e04\", element=\"11445c91-65be-4c62-b5e7-6299546d43b7\")>,\n",
       " <selenium.webdriver.remote.webelement.WebElement (session=\"4aa947555083c8e41f143b8b3f172e04\", element=\"080a2e3c-fd79-41fd-9674-045dc8e4618b\")>,\n",
       " <selenium.webdriver.remote.webelement.WebElement (session=\"4aa947555083c8e41f143b8b3f172e04\", element=\"1d925ae4-be1e-4116-8528-179af20e48e1\")>,\n",
       " <selenium.webdriver.remote.webelement.WebElement (session=\"4aa947555083c8e41f143b8b3f172e04\", element=\"63646154-4b2e-4761-921a-ad86d0d1e5c0\")>,\n",
       " <selenium.webdriver.remote.webelement.WebElement (session=\"4aa947555083c8e41f143b8b3f172e04\", element=\"4b74a211-1eef-47c9-9dc8-fd257db1e49c\")>,\n",
       " <selenium.webdriver.remote.webelement.WebElement (session=\"4aa947555083c8e41f143b8b3f172e04\", element=\"d17f686a-26f2-4fc7-b5dc-05ba0ecdc5ee\")>,\n",
       " <selenium.webdriver.remote.webelement.WebElement (session=\"4aa947555083c8e41f143b8b3f172e04\", element=\"cbe6b154-4319-4018-b277-0c0e3070e7bf\")>,\n",
       " <selenium.webdriver.remote.webelement.WebElement (session=\"4aa947555083c8e41f143b8b3f172e04\", element=\"fe9b0e98-24f4-44a1-ad58-0ccd37c772b9\")>,\n",
       " <selenium.webdriver.remote.webelement.WebElement (session=\"4aa947555083c8e41f143b8b3f172e04\", element=\"c155a617-4169-4e93-a1f5-cd78555bbd28\")>,\n",
       " <selenium.webdriver.remote.webelement.WebElement (session=\"4aa947555083c8e41f143b8b3f172e04\", element=\"dd3a0489-d7cd-40d4-8159-ae401a3cabee\")>,\n",
       " <selenium.webdriver.remote.webelement.WebElement (session=\"4aa947555083c8e41f143b8b3f172e04\", element=\"6499d0ee-9dfa-4ac1-a6f2-b0e092791144\")>,\n",
       " <selenium.webdriver.remote.webelement.WebElement (session=\"4aa947555083c8e41f143b8b3f172e04\", element=\"841f138a-0b56-4332-ba54-66602c67de9e\")>,\n",
       " <selenium.webdriver.remote.webelement.WebElement (session=\"4aa947555083c8e41f143b8b3f172e04\", element=\"1988d4cf-3b69-4665-88a6-b36aa43888dd\")>,\n",
       " <selenium.webdriver.remote.webelement.WebElement (session=\"4aa947555083c8e41f143b8b3f172e04\", element=\"36e78e73-8f3c-417d-8034-01e33672c5b7\")>,\n",
       " <selenium.webdriver.remote.webelement.WebElement (session=\"4aa947555083c8e41f143b8b3f172e04\", element=\"e9426e21-d0c6-40c0-ac94-38d5a303ab14\")>,\n",
       " <selenium.webdriver.remote.webelement.WebElement (session=\"4aa947555083c8e41f143b8b3f172e04\", element=\"75f57c1d-ed84-4b57-8da2-597bfb833163\")>,\n",
       " <selenium.webdriver.remote.webelement.WebElement (session=\"4aa947555083c8e41f143b8b3f172e04\", element=\"b26d55af-4867-46da-bf5f-4bf64f936f42\")>,\n",
       " <selenium.webdriver.remote.webelement.WebElement (session=\"4aa947555083c8e41f143b8b3f172e04\", element=\"63e59e1a-93ce-48ca-9d33-86aee4931308\")>,\n",
       " <selenium.webdriver.remote.webelement.WebElement (session=\"4aa947555083c8e41f143b8b3f172e04\", element=\"16f87da6-be77-4f91-8522-50b71f1dbeea\")>,\n",
       " <selenium.webdriver.remote.webelement.WebElement (session=\"4aa947555083c8e41f143b8b3f172e04\", element=\"1466f25e-6c7e-45d4-9549-f82545fbe7eb\")>,\n",
       " <selenium.webdriver.remote.webelement.WebElement (session=\"4aa947555083c8e41f143b8b3f172e04\", element=\"336ad569-add0-426f-98cb-3e9880011035\")>,\n",
       " <selenium.webdriver.remote.webelement.WebElement (session=\"4aa947555083c8e41f143b8b3f172e04\", element=\"70dd9a44-0d23-47e7-95c3-478419ef5922\")>,\n",
       " <selenium.webdriver.remote.webelement.WebElement (session=\"4aa947555083c8e41f143b8b3f172e04\", element=\"659689f4-46ea-4d87-b0d7-5684e6b00040\")>,\n",
       " <selenium.webdriver.remote.webelement.WebElement (session=\"4aa947555083c8e41f143b8b3f172e04\", element=\"cb6cef4e-81ee-49b3-a839-1274de36a9e8\")>,\n",
       " <selenium.webdriver.remote.webelement.WebElement (session=\"4aa947555083c8e41f143b8b3f172e04\", element=\"e2c223cb-07be-4c43-b01c-6c1c24596e02\")>,\n",
       " <selenium.webdriver.remote.webelement.WebElement (session=\"4aa947555083c8e41f143b8b3f172e04\", element=\"80bf3820-6677-4447-9b5c-3f183301fcb3\")>,\n",
       " <selenium.webdriver.remote.webelement.WebElement (session=\"4aa947555083c8e41f143b8b3f172e04\", element=\"89014038-ba82-44c7-9838-7cecbebb8128\")>,\n",
       " <selenium.webdriver.remote.webelement.WebElement (session=\"4aa947555083c8e41f143b8b3f172e04\", element=\"816591d9-574b-49a9-89db-a3fcc5f34969\")>,\n",
       " <selenium.webdriver.remote.webelement.WebElement (session=\"4aa947555083c8e41f143b8b3f172e04\", element=\"9ebb7780-92cf-45a7-b360-dd7089c35bf0\")>,\n",
       " <selenium.webdriver.remote.webelement.WebElement (session=\"4aa947555083c8e41f143b8b3f172e04\", element=\"c1b5d6fe-9c43-4b13-a7db-35d3322b1218\")>,\n",
       " <selenium.webdriver.remote.webelement.WebElement (session=\"4aa947555083c8e41f143b8b3f172e04\", element=\"6f3ba687-68fb-4fc9-a311-fa5cd911c885\")>,\n",
       " <selenium.webdriver.remote.webelement.WebElement (session=\"4aa947555083c8e41f143b8b3f172e04\", element=\"0fc1dc7c-1738-40c0-b97f-0bd183fd6c89\")>,\n",
       " <selenium.webdriver.remote.webelement.WebElement (session=\"4aa947555083c8e41f143b8b3f172e04\", element=\"7dee346e-9153-499c-b557-91213df7f8a7\")>,\n",
       " <selenium.webdriver.remote.webelement.WebElement (session=\"4aa947555083c8e41f143b8b3f172e04\", element=\"fa5b9244-9e0f-45c7-9838-df3739cd36b5\")>,\n",
       " <selenium.webdriver.remote.webelement.WebElement (session=\"4aa947555083c8e41f143b8b3f172e04\", element=\"d0414317-d7b3-448c-ab03-2a2f23018cab\")>,\n",
       " <selenium.webdriver.remote.webelement.WebElement (session=\"4aa947555083c8e41f143b8b3f172e04\", element=\"3d4f052c-4663-43ba-9231-482133abe89f\")>,\n",
       " <selenium.webdriver.remote.webelement.WebElement (session=\"4aa947555083c8e41f143b8b3f172e04\", element=\"00c432fb-c9f8-4595-bf7c-2ef903a3da4a\")>,\n",
       " <selenium.webdriver.remote.webelement.WebElement (session=\"4aa947555083c8e41f143b8b3f172e04\", element=\"34d41847-019e-4649-a44a-255cfa9ffa00\")>,\n",
       " <selenium.webdriver.remote.webelement.WebElement (session=\"4aa947555083c8e41f143b8b3f172e04\", element=\"fb33d3a1-e172-4660-850b-98068755a123\")>,\n",
       " <selenium.webdriver.remote.webelement.WebElement (session=\"4aa947555083c8e41f143b8b3f172e04\", element=\"08344d6c-f396-4743-a26e-f5d422b4c040\")>,\n",
       " <selenium.webdriver.remote.webelement.WebElement (session=\"4aa947555083c8e41f143b8b3f172e04\", element=\"8d275e19-f5ce-4f29-8d7c-13f91131adf4\")>,\n",
       " <selenium.webdriver.remote.webelement.WebElement (session=\"4aa947555083c8e41f143b8b3f172e04\", element=\"e903586e-fdcf-42dc-99ca-c587b8938267\")>,\n",
       " <selenium.webdriver.remote.webelement.WebElement (session=\"4aa947555083c8e41f143b8b3f172e04\", element=\"1d6b5494-70d3-4f67-a5ea-481fa5087085\")>,\n",
       " <selenium.webdriver.remote.webelement.WebElement (session=\"4aa947555083c8e41f143b8b3f172e04\", element=\"a40ca05b-e02f-4bed-85ac-bb7c72f63193\")>,\n",
       " <selenium.webdriver.remote.webelement.WebElement (session=\"4aa947555083c8e41f143b8b3f172e04\", element=\"266734a5-2a27-44fe-b027-ca377c2eb3ae\")>,\n",
       " <selenium.webdriver.remote.webelement.WebElement (session=\"4aa947555083c8e41f143b8b3f172e04\", element=\"f06ef5fd-11a4-4399-b977-6171dd11661c\")>,\n",
       " <selenium.webdriver.remote.webelement.WebElement (session=\"4aa947555083c8e41f143b8b3f172e04\", element=\"1fa1e0bf-ecea-425e-9a70-2f7fe099f152\")>,\n",
       " <selenium.webdriver.remote.webelement.WebElement (session=\"4aa947555083c8e41f143b8b3f172e04\", element=\"955fd545-b536-4bf0-a86a-ebf8439bfacd\")>,\n",
       " <selenium.webdriver.remote.webelement.WebElement (session=\"4aa947555083c8e41f143b8b3f172e04\", element=\"729f0b7e-9b4a-44b8-b29f-c19896b30cb7\")>,\n",
       " <selenium.webdriver.remote.webelement.WebElement (session=\"4aa947555083c8e41f143b8b3f172e04\", element=\"401a5ecb-1a39-4cf3-8826-c46de720a6ef\")>,\n",
       " <selenium.webdriver.remote.webelement.WebElement (session=\"4aa947555083c8e41f143b8b3f172e04\", element=\"4be25dcf-eeb3-42bb-bc12-3cee8346e2eb\")>,\n",
       " <selenium.webdriver.remote.webelement.WebElement (session=\"4aa947555083c8e41f143b8b3f172e04\", element=\"5936058f-99a5-4265-9720-335919979dea\")>]"
      ]
     },
     "execution_count": 10,
     "metadata": {},
     "output_type": "execute_result"
    }
   ],
   "source": [
    "#Retrieve every link from a page\n",
    "from selenium.webdriver.common.by import By\n",
    "driver.find_elements(by=By.TAG_NAME, value='a')"
   ]
  },
  {
   "cell_type": "code",
   "execution_count": 11,
   "id": "d3afbe96",
   "metadata": {},
   "outputs": [
    {
     "data": {
      "text/plain": [
       "[<selenium.webdriver.remote.webelement.WebElement (session=\"4aa947555083c8e41f143b8b3f172e04\", element=\"35d45ee4-bd22-41eb-aed9-5a653375239d\")>,\n",
       " <selenium.webdriver.remote.webelement.WebElement (session=\"4aa947555083c8e41f143b8b3f172e04\", element=\"cdc1cab2-3d77-4032-8fba-8588fb19c524\")>,\n",
       " <selenium.webdriver.remote.webelement.WebElement (session=\"4aa947555083c8e41f143b8b3f172e04\", element=\"10961ab1-defc-4193-813b-081a7a61d520\")>,\n",
       " <selenium.webdriver.remote.webelement.WebElement (session=\"4aa947555083c8e41f143b8b3f172e04\", element=\"c88aafcf-4089-4463-b886-3591084d9ad0\")>,\n",
       " <selenium.webdriver.remote.webelement.WebElement (session=\"4aa947555083c8e41f143b8b3f172e04\", element=\"dd3a0489-d7cd-40d4-8159-ae401a3cabee\")>,\n",
       " <selenium.webdriver.remote.webelement.WebElement (session=\"4aa947555083c8e41f143b8b3f172e04\", element=\"16f87da6-be77-4f91-8522-50b71f1dbeea\")>]"
      ]
     },
     "execution_count": 11,
     "metadata": {},
     "output_type": "execute_result"
    }
   ],
   "source": [
    "# Retrieve a link from a page that has \"likes\" in its text\n",
    "likes = driver.find_elements(by=By.PARTIAL_LINK_TEXT, value='likes')\n",
    "likes"
   ]
  },
  {
   "cell_type": "code",
   "execution_count": 12,
   "id": "b12ad611",
   "metadata": {},
   "outputs": [
    {
     "data": {
      "text/plain": [
       "['https://www.instagram.com/p/CgDxGmtjl0m/liked_by/',\n",
       " 'https://www.instagram.com/p/CgCSYCQDOY7/liked_by/',\n",
       " 'https://www.instagram.com/p/CgCwVyKIrnT/liked_by/',\n",
       " 'https://www.instagram.com/p/Cf_-b-IoaeE/liked_by/',\n",
       " 'https://www.instagram.com/p/CgE23SpDOAl/liked_by/',\n",
       " 'https://www.instagram.com/p/CgFRryyIHve/liked_by/']"
      ]
     },
     "execution_count": 12,
     "metadata": {},
     "output_type": "execute_result"
    }
   ],
   "source": [
    "[a.get_attribute('href') for a in likes]"
   ]
  },
  {
   "cell_type": "code",
   "execution_count": 16,
   "id": "09b16c00",
   "metadata": {},
   "outputs": [],
   "source": [
    "driver.get(\"https://www.instagram.com/mob/\")"
   ]
  },
  {
   "cell_type": "code",
   "execution_count": 17,
   "id": "ce6ea4f8",
   "metadata": {},
   "outputs": [],
   "source": [
    "# importing time for pauses while scrolling down the web page\n",
    "import time"
   ]
  },
  {
   "cell_type": "code",
   "execution_count": 26,
   "id": "d827d5a9",
   "metadata": {},
   "outputs": [],
   "source": [
    "def get_most_recent_posts_links(account_name, num_posts=15):\n",
    "    url = \"https://www.instagram.com/\" + account_name + \"/\"\n",
    "    driver.get(url)\n",
    "    \n",
    "    posts_links = []\n",
    "    while len(posts_links) < num_posts:\n",
    "        links = [a.get_attribute('href') for a in driver.find_elements(by=By.TAG_NAME, value='a')]\n",
    "        for link in links:\n",
    "            if (\"https://www.instagram.com/p/\" in link) and (link not in posts_links):\n",
    "                posts_links.append(link)\n",
    "        scroll_down = \"window.scrollTo(0, document.body.scrollHeight);\"\n",
    "        driver.execute_script(scroll_down)\n",
    "        time.sleep(10)\n",
    "    else:\n",
    "        driver.stop_client()\n",
    "        return posts_links[:num_posts]"
   ]
  },
  {
   "cell_type": "code",
   "execution_count": 27,
   "id": "9ff9073e",
   "metadata": {},
   "outputs": [
    {
     "data": {
      "text/plain": [
       "['https://www.instagram.com/p/Cedht7HIVTj/',\n",
       " 'https://www.instagram.com/p/CelycH1I1SC/',\n",
       " 'https://www.instagram.com/p/CewI_v2I1pf/',\n",
       " 'https://www.instagram.com/p/CgHu22yjPdC/',\n",
       " 'https://www.instagram.com/p/CgG7JUxjsmJ/',\n",
       " 'https://www.instagram.com/p/CgE23SpDOAl/',\n",
       " 'https://www.instagram.com/p/CgEPpxlj5F7/',\n",
       " 'https://www.instagram.com/p/CgCSYCQDOY7/',\n",
       " 'https://www.instagram.com/p/CgB8dGEIgLH/',\n",
       " 'https://www.instagram.com/p/Cf_-b-IoaeE/',\n",
       " 'https://www.instagram.com/p/Cf_hLaHj7S-/',\n",
       " 'https://www.instagram.com/p/Cf9VAYUjQCu/',\n",
       " 'https://www.instagram.com/p/Cf6yUwyDO2j/',\n",
       " 'https://www.instagram.com/p/Cf6Ied2D634/',\n",
       " 'https://www.instagram.com/p/Cf4ROZBDKmk/']"
      ]
     },
     "execution_count": 27,
     "metadata": {},
     "output_type": "execute_result"
    }
   ],
   "source": [
    "mob_posts = get_most_recent_posts_links(\"mob\")\n",
    "mob_posts"
   ]
  },
  {
   "cell_type": "code",
   "execution_count": 28,
   "id": "9c1471a5",
   "metadata": {},
   "outputs": [],
   "source": [
    "driver.get(\"https://www.instagram.com/p/Cedht7HIVTj/\")"
   ]
  },
  {
   "cell_type": "code",
   "execution_count": 23,
   "id": "769f9bdc",
   "metadata": {},
   "outputs": [
    {
     "ename": "NoSuchElementException",
     "evalue": "Message: no such element: Unable to locate element: {\"method\":\"partial link text\",\"selector\":\"likes\"}\n  (Session info: chrome=103.0.5060.114)\nStacktrace:\n0   chromedriver                        0x00000001098e6079 chromedriver + 4444281\n1   chromedriver                        0x0000000109872403 chromedriver + 3970051\n2   chromedriver                        0x000000010950d038 chromedriver + 409656\n3   chromedriver                        0x00000001095432fd chromedriver + 631549\n4   chromedriver                        0x0000000109543581 chromedriver + 632193\n5   chromedriver                        0x00000001095754f4 chromedriver + 836852\n6   chromedriver                        0x00000001095607bd chromedriver + 751549\n7   chromedriver                        0x0000000109573221 chromedriver + 827937\n8   chromedriver                        0x0000000109560683 chromedriver + 751235\n9   chromedriver                        0x0000000109536a45 chromedriver + 580165\n10  chromedriver                        0x0000000109537a95 chromedriver + 584341\n11  chromedriver                        0x00000001098b755d chromedriver + 4253021\n12  chromedriver                        0x00000001098bc3a1 chromedriver + 4273057\n13  chromedriver                        0x00000001098c116f chromedriver + 4292975\n14  chromedriver                        0x00000001098bcdea chromedriver + 4275690\n15  chromedriver                        0x000000010989654f chromedriver + 4117839\n16  chromedriver                        0x00000001098d6ed8 chromedriver + 4382424\n17  chromedriver                        0x00000001098d705f chromedriver + 4382815\n18  chromedriver                        0x00000001098ed8d5 chromedriver + 4475093\n19  libsystem_pthread.dylib             0x00007fff706b0109 _pthread_start + 148\n20  libsystem_pthread.dylib             0x00007fff706abb8b thread_start + 15\n",
     "output_type": "error",
     "traceback": [
      "\u001b[0;31m---------------------------------------------------------------------------\u001b[0m",
      "\u001b[0;31mNoSuchElementException\u001b[0m                    Traceback (most recent call last)",
      "Input \u001b[0;32mIn [23]\u001b[0m, in \u001b[0;36m<module>\u001b[0;34m\u001b[0m\n\u001b[1;32m      1\u001b[0m driver\u001b[38;5;241m.\u001b[39mget(mob_posts[\u001b[38;5;241m1\u001b[39m])\n\u001b[0;32m----> 2\u001b[0m \u001b[43mdriver\u001b[49m\u001b[38;5;241;43m.\u001b[39;49m\u001b[43mfind_element\u001b[49m\u001b[43m(\u001b[49m\u001b[43mby\u001b[49m\u001b[38;5;241;43m=\u001b[39;49m\u001b[43mBy\u001b[49m\u001b[38;5;241;43m.\u001b[39;49m\u001b[43mPARTIAL_LINK_TEXT\u001b[49m\u001b[43m,\u001b[49m\u001b[43m \u001b[49m\u001b[43mvalue\u001b[49m\u001b[38;5;241;43m=\u001b[39;49m\u001b[38;5;124;43m\"\u001b[39;49m\u001b[38;5;124;43mlikes\u001b[39;49m\u001b[38;5;124;43m\"\u001b[39;49m\u001b[43m)\u001b[49m\u001b[38;5;241m.\u001b[39mtext\n",
      "File \u001b[0;32m~/opt/miniconda3/envs/data_analytics/lib/python3.9/site-packages/selenium/webdriver/remote/webdriver.py:1251\u001b[0m, in \u001b[0;36mWebDriver.find_element\u001b[0;34m(self, by, value)\u001b[0m\n\u001b[1;32m   1248\u001b[0m     by \u001b[38;5;241m=\u001b[39m By\u001b[38;5;241m.\u001b[39mCSS_SELECTOR\n\u001b[1;32m   1249\u001b[0m     value \u001b[38;5;241m=\u001b[39m \u001b[38;5;124m'\u001b[39m\u001b[38;5;124m[name=\u001b[39m\u001b[38;5;124m\"\u001b[39m\u001b[38;5;132;01m%s\u001b[39;00m\u001b[38;5;124m\"\u001b[39m\u001b[38;5;124m]\u001b[39m\u001b[38;5;124m'\u001b[39m \u001b[38;5;241m%\u001b[39m value\n\u001b[0;32m-> 1251\u001b[0m \u001b[38;5;28;01mreturn\u001b[39;00m \u001b[38;5;28;43mself\u001b[39;49m\u001b[38;5;241;43m.\u001b[39;49m\u001b[43mexecute\u001b[49m\u001b[43m(\u001b[49m\u001b[43mCommand\u001b[49m\u001b[38;5;241;43m.\u001b[39;49m\u001b[43mFIND_ELEMENT\u001b[49m\u001b[43m,\u001b[49m\u001b[43m \u001b[49m\u001b[43m{\u001b[49m\n\u001b[1;32m   1252\u001b[0m \u001b[43m    \u001b[49m\u001b[38;5;124;43m'\u001b[39;49m\u001b[38;5;124;43musing\u001b[39;49m\u001b[38;5;124;43m'\u001b[39;49m\u001b[43m:\u001b[49m\u001b[43m \u001b[49m\u001b[43mby\u001b[49m\u001b[43m,\u001b[49m\n\u001b[1;32m   1253\u001b[0m \u001b[43m    \u001b[49m\u001b[38;5;124;43m'\u001b[39;49m\u001b[38;5;124;43mvalue\u001b[39;49m\u001b[38;5;124;43m'\u001b[39;49m\u001b[43m:\u001b[49m\u001b[43m \u001b[49m\u001b[43mvalue\u001b[49m\u001b[43m}\u001b[49m\u001b[43m)\u001b[49m[\u001b[38;5;124m'\u001b[39m\u001b[38;5;124mvalue\u001b[39m\u001b[38;5;124m'\u001b[39m]\n",
      "File \u001b[0;32m~/opt/miniconda3/envs/data_analytics/lib/python3.9/site-packages/selenium/webdriver/remote/webdriver.py:430\u001b[0m, in \u001b[0;36mWebDriver.execute\u001b[0;34m(self, driver_command, params)\u001b[0m\n\u001b[1;32m    428\u001b[0m response \u001b[38;5;241m=\u001b[39m \u001b[38;5;28mself\u001b[39m\u001b[38;5;241m.\u001b[39mcommand_executor\u001b[38;5;241m.\u001b[39mexecute(driver_command, params)\n\u001b[1;32m    429\u001b[0m \u001b[38;5;28;01mif\u001b[39;00m response:\n\u001b[0;32m--> 430\u001b[0m     \u001b[38;5;28;43mself\u001b[39;49m\u001b[38;5;241;43m.\u001b[39;49m\u001b[43merror_handler\u001b[49m\u001b[38;5;241;43m.\u001b[39;49m\u001b[43mcheck_response\u001b[49m\u001b[43m(\u001b[49m\u001b[43mresponse\u001b[49m\u001b[43m)\u001b[49m\n\u001b[1;32m    431\u001b[0m     response[\u001b[38;5;124m'\u001b[39m\u001b[38;5;124mvalue\u001b[39m\u001b[38;5;124m'\u001b[39m] \u001b[38;5;241m=\u001b[39m \u001b[38;5;28mself\u001b[39m\u001b[38;5;241m.\u001b[39m_unwrap_value(\n\u001b[1;32m    432\u001b[0m         response\u001b[38;5;241m.\u001b[39mget(\u001b[38;5;124m'\u001b[39m\u001b[38;5;124mvalue\u001b[39m\u001b[38;5;124m'\u001b[39m, \u001b[38;5;28;01mNone\u001b[39;00m))\n\u001b[1;32m    433\u001b[0m     \u001b[38;5;28;01mreturn\u001b[39;00m response\n",
      "File \u001b[0;32m~/opt/miniconda3/envs/data_analytics/lib/python3.9/site-packages/selenium/webdriver/remote/errorhandler.py:247\u001b[0m, in \u001b[0;36mErrorHandler.check_response\u001b[0;34m(self, response)\u001b[0m\n\u001b[1;32m    245\u001b[0m         alert_text \u001b[38;5;241m=\u001b[39m value[\u001b[38;5;124m'\u001b[39m\u001b[38;5;124malert\u001b[39m\u001b[38;5;124m'\u001b[39m]\u001b[38;5;241m.\u001b[39mget(\u001b[38;5;124m'\u001b[39m\u001b[38;5;124mtext\u001b[39m\u001b[38;5;124m'\u001b[39m)\n\u001b[1;32m    246\u001b[0m     \u001b[38;5;28;01mraise\u001b[39;00m exception_class(message, screen, stacktrace, alert_text)  \u001b[38;5;66;03m# type: ignore[call-arg]  # mypy is not smart enough here\u001b[39;00m\n\u001b[0;32m--> 247\u001b[0m \u001b[38;5;28;01mraise\u001b[39;00m exception_class(message, screen, stacktrace)\n",
      "\u001b[0;31mNoSuchElementException\u001b[0m: Message: no such element: Unable to locate element: {\"method\":\"partial link text\",\"selector\":\"likes\"}\n  (Session info: chrome=103.0.5060.114)\nStacktrace:\n0   chromedriver                        0x00000001098e6079 chromedriver + 4444281\n1   chromedriver                        0x0000000109872403 chromedriver + 3970051\n2   chromedriver                        0x000000010950d038 chromedriver + 409656\n3   chromedriver                        0x00000001095432fd chromedriver + 631549\n4   chromedriver                        0x0000000109543581 chromedriver + 632193\n5   chromedriver                        0x00000001095754f4 chromedriver + 836852\n6   chromedriver                        0x00000001095607bd chromedriver + 751549\n7   chromedriver                        0x0000000109573221 chromedriver + 827937\n8   chromedriver                        0x0000000109560683 chromedriver + 751235\n9   chromedriver                        0x0000000109536a45 chromedriver + 580165\n10  chromedriver                        0x0000000109537a95 chromedriver + 584341\n11  chromedriver                        0x00000001098b755d chromedriver + 4253021\n12  chromedriver                        0x00000001098bc3a1 chromedriver + 4273057\n13  chromedriver                        0x00000001098c116f chromedriver + 4292975\n14  chromedriver                        0x00000001098bcdea chromedriver + 4275690\n15  chromedriver                        0x000000010989654f chromedriver + 4117839\n16  chromedriver                        0x00000001098d6ed8 chromedriver + 4382424\n17  chromedriver                        0x00000001098d705f chromedriver + 4382815\n18  chromedriver                        0x00000001098ed8d5 chromedriver + 4475093\n19  libsystem_pthread.dylib             0x00007fff706b0109 _pthread_start + 148\n20  libsystem_pthread.dylib             0x00007fff706abb8b thread_start + 15\n"
     ]
    }
   ],
   "source": [
    "driver.get(mob_posts[1])\n",
    "driver.find_element(by=By.PARTIAL_LINK_TEXT, value=\"likes\").text"
   ]
  },
  {
   "cell_type": "code",
   "execution_count": 21,
   "id": "2654fbd5",
   "metadata": {},
   "outputs": [
    {
     "name": "stderr",
     "output_type": "stream",
     "text": [
      "/var/folders/hn/dknbybgs0qv4myljwr8qtf4c0000gn/T/ipykernel_50056/1402217740.py:15: DeprecationWarning: find_element_by_xpath is deprecated. Please use find_element(by=By.XPATH, value=xpath) instead\n",
      "  likes = driver.find_element_by_xpath(\n",
      "/var/folders/hn/dknbybgs0qv4myljwr8qtf4c0000gn/T/ipykernel_50056/1402217740.py:22: DeprecationWarning: find_element_by_xpath is deprecated. Please use find_element(by=By.XPATH, value=xpath) instead\n",
      "  likes = driver.find_element_by_xpath(\n"
     ]
    },
    {
     "ename": "NoSuchElementException",
     "evalue": "Message: no such element: Unable to locate element: {\"method\":\"xpath\",\"selector\":\"/html/body/div[1]/section/main/div/div/article/\n                div[3]/section[2]/div/span/span\"}\n  (Session info: chrome=103.0.5060.114)\nStacktrace:\n0   chromedriver                        0x00000001098e6079 chromedriver + 4444281\n1   chromedriver                        0x0000000109872403 chromedriver + 3970051\n2   chromedriver                        0x000000010950d038 chromedriver + 409656\n3   chromedriver                        0x00000001095432fd chromedriver + 631549\n4   chromedriver                        0x0000000109543581 chromedriver + 632193\n5   chromedriver                        0x00000001095754f4 chromedriver + 836852\n6   chromedriver                        0x00000001095607bd chromedriver + 751549\n7   chromedriver                        0x0000000109573221 chromedriver + 827937\n8   chromedriver                        0x0000000109560683 chromedriver + 751235\n9   chromedriver                        0x0000000109536a45 chromedriver + 580165\n10  chromedriver                        0x0000000109537a95 chromedriver + 584341\n11  chromedriver                        0x00000001098b755d chromedriver + 4253021\n12  chromedriver                        0x00000001098bc3a1 chromedriver + 4273057\n13  chromedriver                        0x00000001098c116f chromedriver + 4292975\n14  chromedriver                        0x00000001098bcdea chromedriver + 4275690\n15  chromedriver                        0x000000010989654f chromedriver + 4117839\n16  chromedriver                        0x00000001098d6ed8 chromedriver + 4382424\n17  chromedriver                        0x00000001098d705f chromedriver + 4382815\n18  chromedriver                        0x00000001098ed8d5 chromedriver + 4475093\n19  libsystem_pthread.dylib             0x00007fff706b0109 _pthread_start + 148\n20  libsystem_pthread.dylib             0x00007fff706abb8b thread_start + 15\n",
     "output_type": "error",
     "traceback": [
      "\u001b[0;31m---------------------------------------------------------------------------\u001b[0m",
      "\u001b[0;31mNoSuchElementException\u001b[0m                    Traceback (most recent call last)",
      "Input \u001b[0;32mIn [21]\u001b[0m, in \u001b[0;36minsta_link_details\u001b[0;34m(url)\u001b[0m\n\u001b[1;32m     13\u001b[0m \u001b[38;5;28;01mtry\u001b[39;00m:\n\u001b[1;32m     14\u001b[0m     \u001b[38;5;66;03m# This captures the standard like count.\u001b[39;00m\n\u001b[0;32m---> 15\u001b[0m     likes \u001b[38;5;241m=\u001b[39m \u001b[43mdriver\u001b[49m\u001b[38;5;241;43m.\u001b[39;49m\u001b[43mfind_element_by_xpath\u001b[49m\u001b[43m(\u001b[49m\n\u001b[1;32m     16\u001b[0m \u001b[43m        \u001b[49m\u001b[38;5;124;43;03m\"\"\"/html/body/div[1]/section/main/div/div/article/\u001b[39;49;00m\n\u001b[1;32m     17\u001b[0m \u001b[38;5;124;43;03m            div[3]/section[2]/div/div/button/span\"\"\"\u001b[39;49;00m\u001b[43m)\u001b[49m\u001b[38;5;241m.\u001b[39mtext\u001b[38;5;241m.\u001b[39msplit()[\u001b[38;5;241m0\u001b[39m]\n\u001b[1;32m     18\u001b[0m     post_type \u001b[38;5;241m=\u001b[39m \u001b[38;5;124m'\u001b[39m\u001b[38;5;124mphoto\u001b[39m\u001b[38;5;124m'\u001b[39m\n",
      "File \u001b[0;32m~/opt/miniconda3/envs/data_analytics/lib/python3.9/site-packages/selenium/webdriver/remote/webdriver.py:526\u001b[0m, in \u001b[0;36mWebDriver.find_element_by_xpath\u001b[0;34m(self, xpath)\u001b[0m\n\u001b[1;32m    521\u001b[0m warnings\u001b[38;5;241m.\u001b[39mwarn(\n\u001b[1;32m    522\u001b[0m     \u001b[38;5;124m\"\u001b[39m\u001b[38;5;124mfind_element_by_xpath is deprecated. Please use find_element(by=By.XPATH, value=xpath) instead\u001b[39m\u001b[38;5;124m\"\u001b[39m,\n\u001b[1;32m    523\u001b[0m     \u001b[38;5;167;01mDeprecationWarning\u001b[39;00m,\n\u001b[1;32m    524\u001b[0m     stacklevel\u001b[38;5;241m=\u001b[39m\u001b[38;5;241m2\u001b[39m,\n\u001b[1;32m    525\u001b[0m )\n\u001b[0;32m--> 526\u001b[0m \u001b[38;5;28;01mreturn\u001b[39;00m \u001b[38;5;28;43mself\u001b[39;49m\u001b[38;5;241;43m.\u001b[39;49m\u001b[43mfind_element\u001b[49m\u001b[43m(\u001b[49m\u001b[43mby\u001b[49m\u001b[38;5;241;43m=\u001b[39;49m\u001b[43mBy\u001b[49m\u001b[38;5;241;43m.\u001b[39;49m\u001b[43mXPATH\u001b[49m\u001b[43m,\u001b[49m\u001b[43m \u001b[49m\u001b[43mvalue\u001b[49m\u001b[38;5;241;43m=\u001b[39;49m\u001b[43mxpath\u001b[49m\u001b[43m)\u001b[49m\n",
      "File \u001b[0;32m~/opt/miniconda3/envs/data_analytics/lib/python3.9/site-packages/selenium/webdriver/remote/webdriver.py:1251\u001b[0m, in \u001b[0;36mWebDriver.find_element\u001b[0;34m(self, by, value)\u001b[0m\n\u001b[1;32m   1249\u001b[0m     value \u001b[38;5;241m=\u001b[39m \u001b[38;5;124m'\u001b[39m\u001b[38;5;124m[name=\u001b[39m\u001b[38;5;124m\"\u001b[39m\u001b[38;5;132;01m%s\u001b[39;00m\u001b[38;5;124m\"\u001b[39m\u001b[38;5;124m]\u001b[39m\u001b[38;5;124m'\u001b[39m \u001b[38;5;241m%\u001b[39m value\n\u001b[0;32m-> 1251\u001b[0m \u001b[38;5;28;01mreturn\u001b[39;00m \u001b[38;5;28;43mself\u001b[39;49m\u001b[38;5;241;43m.\u001b[39;49m\u001b[43mexecute\u001b[49m\u001b[43m(\u001b[49m\u001b[43mCommand\u001b[49m\u001b[38;5;241;43m.\u001b[39;49m\u001b[43mFIND_ELEMENT\u001b[49m\u001b[43m,\u001b[49m\u001b[43m \u001b[49m\u001b[43m{\u001b[49m\n\u001b[1;32m   1252\u001b[0m \u001b[43m    \u001b[49m\u001b[38;5;124;43m'\u001b[39;49m\u001b[38;5;124;43musing\u001b[39;49m\u001b[38;5;124;43m'\u001b[39;49m\u001b[43m:\u001b[49m\u001b[43m \u001b[49m\u001b[43mby\u001b[49m\u001b[43m,\u001b[49m\n\u001b[1;32m   1253\u001b[0m \u001b[43m    \u001b[49m\u001b[38;5;124;43m'\u001b[39;49m\u001b[38;5;124;43mvalue\u001b[39;49m\u001b[38;5;124;43m'\u001b[39;49m\u001b[43m:\u001b[49m\u001b[43m \u001b[49m\u001b[43mvalue\u001b[49m\u001b[43m}\u001b[49m\u001b[43m)\u001b[49m[\u001b[38;5;124m'\u001b[39m\u001b[38;5;124mvalue\u001b[39m\u001b[38;5;124m'\u001b[39m]\n",
      "File \u001b[0;32m~/opt/miniconda3/envs/data_analytics/lib/python3.9/site-packages/selenium/webdriver/remote/webdriver.py:430\u001b[0m, in \u001b[0;36mWebDriver.execute\u001b[0;34m(self, driver_command, params)\u001b[0m\n\u001b[1;32m    429\u001b[0m \u001b[38;5;28;01mif\u001b[39;00m response:\n\u001b[0;32m--> 430\u001b[0m     \u001b[38;5;28;43mself\u001b[39;49m\u001b[38;5;241;43m.\u001b[39;49m\u001b[43merror_handler\u001b[49m\u001b[38;5;241;43m.\u001b[39;49m\u001b[43mcheck_response\u001b[49m\u001b[43m(\u001b[49m\u001b[43mresponse\u001b[49m\u001b[43m)\u001b[49m\n\u001b[1;32m    431\u001b[0m     response[\u001b[38;5;124m'\u001b[39m\u001b[38;5;124mvalue\u001b[39m\u001b[38;5;124m'\u001b[39m] \u001b[38;5;241m=\u001b[39m \u001b[38;5;28mself\u001b[39m\u001b[38;5;241m.\u001b[39m_unwrap_value(\n\u001b[1;32m    432\u001b[0m         response\u001b[38;5;241m.\u001b[39mget(\u001b[38;5;124m'\u001b[39m\u001b[38;5;124mvalue\u001b[39m\u001b[38;5;124m'\u001b[39m, \u001b[38;5;28;01mNone\u001b[39;00m))\n",
      "File \u001b[0;32m~/opt/miniconda3/envs/data_analytics/lib/python3.9/site-packages/selenium/webdriver/remote/errorhandler.py:247\u001b[0m, in \u001b[0;36mErrorHandler.check_response\u001b[0;34m(self, response)\u001b[0m\n\u001b[1;32m    246\u001b[0m     \u001b[38;5;28;01mraise\u001b[39;00m exception_class(message, screen, stacktrace, alert_text)  \u001b[38;5;66;03m# type: ignore[call-arg]  # mypy is not smart enough here\u001b[39;00m\n\u001b[0;32m--> 247\u001b[0m \u001b[38;5;28;01mraise\u001b[39;00m exception_class(message, screen, stacktrace)\n",
      "\u001b[0;31mNoSuchElementException\u001b[0m: Message: no such element: Unable to locate element: {\"method\":\"xpath\",\"selector\":\"/html/body/div[1]/section/main/div/div/article/\n                div[3]/section[2]/div/div/button/span\"}\n  (Session info: chrome=103.0.5060.114)\nStacktrace:\n0   chromedriver                        0x00000001098e6079 chromedriver + 4444281\n1   chromedriver                        0x0000000109872403 chromedriver + 3970051\n2   chromedriver                        0x000000010950d038 chromedriver + 409656\n3   chromedriver                        0x00000001095432fd chromedriver + 631549\n4   chromedriver                        0x0000000109543581 chromedriver + 632193\n5   chromedriver                        0x00000001095754f4 chromedriver + 836852\n6   chromedriver                        0x00000001095607bd chromedriver + 751549\n7   chromedriver                        0x0000000109573221 chromedriver + 827937\n8   chromedriver                        0x0000000109560683 chromedriver + 751235\n9   chromedriver                        0x0000000109536a45 chromedriver + 580165\n10  chromedriver                        0x0000000109537a95 chromedriver + 584341\n11  chromedriver                        0x00000001098b755d chromedriver + 4253021\n12  chromedriver                        0x00000001098bc3a1 chromedriver + 4273057\n13  chromedriver                        0x00000001098c116f chromedriver + 4292975\n14  chromedriver                        0x00000001098bcdea chromedriver + 4275690\n15  chromedriver                        0x000000010989654f chromedriver + 4117839\n16  chromedriver                        0x00000001098d6ed8 chromedriver + 4382424\n17  chromedriver                        0x00000001098d705f chromedriver + 4382815\n18  chromedriver                        0x00000001098ed8d5 chromedriver + 4475093\n19  libsystem_pthread.dylib             0x00007fff706b0109 _pthread_start + 148\n20  libsystem_pthread.dylib             0x00007fff706abb8b thread_start + 15\n",
      "\nDuring handling of the above exception, another exception occurred:\n",
      "\u001b[0;31mNoSuchElementException\u001b[0m                    Traceback (most recent call last)",
      "Input \u001b[0;32mIn [21]\u001b[0m, in \u001b[0;36m<module>\u001b[0;34m\u001b[0m\n\u001b[1;32m     34\u001b[0m     time\u001b[38;5;241m.\u001b[39msleep(\u001b[38;5;241m10\u001b[39m)\n\u001b[1;32m     35\u001b[0m     \u001b[38;5;28;01mreturn\u001b[39;00m post_details\n\u001b[0;32m---> 37\u001b[0m \u001b[43minsta_link_details\u001b[49m\u001b[43m(\u001b[49m\u001b[43mmob_posts\u001b[49m\u001b[43m[\u001b[49m\u001b[38;5;241;43m0\u001b[39;49m\u001b[43m]\u001b[49m\u001b[43m)\u001b[49m\n",
      "Input \u001b[0;32mIn [21]\u001b[0m, in \u001b[0;36minsta_link_details\u001b[0;34m(url)\u001b[0m\n\u001b[1;32m     18\u001b[0m     post_type \u001b[38;5;241m=\u001b[39m \u001b[38;5;124m'\u001b[39m\u001b[38;5;124mphoto\u001b[39m\u001b[38;5;124m'\u001b[39m\n\u001b[1;32m     20\u001b[0m \u001b[38;5;28;01mexcept\u001b[39;00m:\n\u001b[1;32m     21\u001b[0m     \u001b[38;5;66;03m# This captures the like count for videos which is stored\u001b[39;00m\n\u001b[0;32m---> 22\u001b[0m     likes \u001b[38;5;241m=\u001b[39m \u001b[43mdriver\u001b[49m\u001b[38;5;241;43m.\u001b[39;49m\u001b[43mfind_element_by_xpath\u001b[49m\u001b[43m(\u001b[49m\n\u001b[1;32m     23\u001b[0m \u001b[43m        \u001b[49m\u001b[38;5;124;43;03m\"\"\"/html/body/div[1]/section/main/div/div/article/\u001b[39;49;00m\n\u001b[1;32m     24\u001b[0m \u001b[38;5;124;43;03m            div[3]/section[2]/div/span/span\"\"\"\u001b[39;49;00m\u001b[43m)\u001b[49m\u001b[38;5;241m.\u001b[39mtext\u001b[38;5;241m.\u001b[39msplit()[\u001b[38;5;241m0\u001b[39m]\n\u001b[1;32m     25\u001b[0m     post_type \u001b[38;5;241m=\u001b[39m \u001b[38;5;124m'\u001b[39m\u001b[38;5;124mvideo\u001b[39m\u001b[38;5;124m'\u001b[39m\n\u001b[1;32m     26\u001b[0m age \u001b[38;5;241m=\u001b[39m driver\u001b[38;5;241m.\u001b[39mfind_element_by_css_selector(\u001b[38;5;124m'\u001b[39m\u001b[38;5;124ma time\u001b[39m\u001b[38;5;124m'\u001b[39m)\u001b[38;5;241m.\u001b[39mtext\n",
      "File \u001b[0;32m~/opt/miniconda3/envs/data_analytics/lib/python3.9/site-packages/selenium/webdriver/remote/webdriver.py:526\u001b[0m, in \u001b[0;36mWebDriver.find_element_by_xpath\u001b[0;34m(self, xpath)\u001b[0m\n\u001b[1;32m    504\u001b[0m \u001b[38;5;124;03m\"\"\"\u001b[39;00m\n\u001b[1;32m    505\u001b[0m \u001b[38;5;124;03mFinds an element by xpath.\u001b[39;00m\n\u001b[1;32m    506\u001b[0m \n\u001b[0;32m   (...)\u001b[0m\n\u001b[1;32m    519\u001b[0m \u001b[38;5;124;03m        element = driver.find_element_by_xpath('//div/td[1]')\u001b[39;00m\n\u001b[1;32m    520\u001b[0m \u001b[38;5;124;03m\"\"\"\u001b[39;00m\n\u001b[1;32m    521\u001b[0m warnings\u001b[38;5;241m.\u001b[39mwarn(\n\u001b[1;32m    522\u001b[0m     \u001b[38;5;124m\"\u001b[39m\u001b[38;5;124mfind_element_by_xpath is deprecated. Please use find_element(by=By.XPATH, value=xpath) instead\u001b[39m\u001b[38;5;124m\"\u001b[39m,\n\u001b[1;32m    523\u001b[0m     \u001b[38;5;167;01mDeprecationWarning\u001b[39;00m,\n\u001b[1;32m    524\u001b[0m     stacklevel\u001b[38;5;241m=\u001b[39m\u001b[38;5;241m2\u001b[39m,\n\u001b[1;32m    525\u001b[0m )\n\u001b[0;32m--> 526\u001b[0m \u001b[38;5;28;01mreturn\u001b[39;00m \u001b[38;5;28;43mself\u001b[39;49m\u001b[38;5;241;43m.\u001b[39;49m\u001b[43mfind_element\u001b[49m\u001b[43m(\u001b[49m\u001b[43mby\u001b[49m\u001b[38;5;241;43m=\u001b[39;49m\u001b[43mBy\u001b[49m\u001b[38;5;241;43m.\u001b[39;49m\u001b[43mXPATH\u001b[49m\u001b[43m,\u001b[49m\u001b[43m \u001b[49m\u001b[43mvalue\u001b[49m\u001b[38;5;241;43m=\u001b[39;49m\u001b[43mxpath\u001b[49m\u001b[43m)\u001b[49m\n",
      "File \u001b[0;32m~/opt/miniconda3/envs/data_analytics/lib/python3.9/site-packages/selenium/webdriver/remote/webdriver.py:1251\u001b[0m, in \u001b[0;36mWebDriver.find_element\u001b[0;34m(self, by, value)\u001b[0m\n\u001b[1;32m   1248\u001b[0m     by \u001b[38;5;241m=\u001b[39m By\u001b[38;5;241m.\u001b[39mCSS_SELECTOR\n\u001b[1;32m   1249\u001b[0m     value \u001b[38;5;241m=\u001b[39m \u001b[38;5;124m'\u001b[39m\u001b[38;5;124m[name=\u001b[39m\u001b[38;5;124m\"\u001b[39m\u001b[38;5;132;01m%s\u001b[39;00m\u001b[38;5;124m\"\u001b[39m\u001b[38;5;124m]\u001b[39m\u001b[38;5;124m'\u001b[39m \u001b[38;5;241m%\u001b[39m value\n\u001b[0;32m-> 1251\u001b[0m \u001b[38;5;28;01mreturn\u001b[39;00m \u001b[38;5;28;43mself\u001b[39;49m\u001b[38;5;241;43m.\u001b[39;49m\u001b[43mexecute\u001b[49m\u001b[43m(\u001b[49m\u001b[43mCommand\u001b[49m\u001b[38;5;241;43m.\u001b[39;49m\u001b[43mFIND_ELEMENT\u001b[49m\u001b[43m,\u001b[49m\u001b[43m \u001b[49m\u001b[43m{\u001b[49m\n\u001b[1;32m   1252\u001b[0m \u001b[43m    \u001b[49m\u001b[38;5;124;43m'\u001b[39;49m\u001b[38;5;124;43musing\u001b[39;49m\u001b[38;5;124;43m'\u001b[39;49m\u001b[43m:\u001b[49m\u001b[43m \u001b[49m\u001b[43mby\u001b[49m\u001b[43m,\u001b[49m\n\u001b[1;32m   1253\u001b[0m \u001b[43m    \u001b[49m\u001b[38;5;124;43m'\u001b[39;49m\u001b[38;5;124;43mvalue\u001b[39;49m\u001b[38;5;124;43m'\u001b[39;49m\u001b[43m:\u001b[49m\u001b[43m \u001b[49m\u001b[43mvalue\u001b[49m\u001b[43m}\u001b[49m\u001b[43m)\u001b[49m[\u001b[38;5;124m'\u001b[39m\u001b[38;5;124mvalue\u001b[39m\u001b[38;5;124m'\u001b[39m]\n",
      "File \u001b[0;32m~/opt/miniconda3/envs/data_analytics/lib/python3.9/site-packages/selenium/webdriver/remote/webdriver.py:430\u001b[0m, in \u001b[0;36mWebDriver.execute\u001b[0;34m(self, driver_command, params)\u001b[0m\n\u001b[1;32m    428\u001b[0m response \u001b[38;5;241m=\u001b[39m \u001b[38;5;28mself\u001b[39m\u001b[38;5;241m.\u001b[39mcommand_executor\u001b[38;5;241m.\u001b[39mexecute(driver_command, params)\n\u001b[1;32m    429\u001b[0m \u001b[38;5;28;01mif\u001b[39;00m response:\n\u001b[0;32m--> 430\u001b[0m     \u001b[38;5;28;43mself\u001b[39;49m\u001b[38;5;241;43m.\u001b[39;49m\u001b[43merror_handler\u001b[49m\u001b[38;5;241;43m.\u001b[39;49m\u001b[43mcheck_response\u001b[49m\u001b[43m(\u001b[49m\u001b[43mresponse\u001b[49m\u001b[43m)\u001b[49m\n\u001b[1;32m    431\u001b[0m     response[\u001b[38;5;124m'\u001b[39m\u001b[38;5;124mvalue\u001b[39m\u001b[38;5;124m'\u001b[39m] \u001b[38;5;241m=\u001b[39m \u001b[38;5;28mself\u001b[39m\u001b[38;5;241m.\u001b[39m_unwrap_value(\n\u001b[1;32m    432\u001b[0m         response\u001b[38;5;241m.\u001b[39mget(\u001b[38;5;124m'\u001b[39m\u001b[38;5;124mvalue\u001b[39m\u001b[38;5;124m'\u001b[39m, \u001b[38;5;28;01mNone\u001b[39;00m))\n\u001b[1;32m    433\u001b[0m     \u001b[38;5;28;01mreturn\u001b[39;00m response\n",
      "File \u001b[0;32m~/opt/miniconda3/envs/data_analytics/lib/python3.9/site-packages/selenium/webdriver/remote/errorhandler.py:247\u001b[0m, in \u001b[0;36mErrorHandler.check_response\u001b[0;34m(self, response)\u001b[0m\n\u001b[1;32m    245\u001b[0m         alert_text \u001b[38;5;241m=\u001b[39m value[\u001b[38;5;124m'\u001b[39m\u001b[38;5;124malert\u001b[39m\u001b[38;5;124m'\u001b[39m]\u001b[38;5;241m.\u001b[39mget(\u001b[38;5;124m'\u001b[39m\u001b[38;5;124mtext\u001b[39m\u001b[38;5;124m'\u001b[39m)\n\u001b[1;32m    246\u001b[0m     \u001b[38;5;28;01mraise\u001b[39;00m exception_class(message, screen, stacktrace, alert_text)  \u001b[38;5;66;03m# type: ignore[call-arg]  # mypy is not smart enough here\u001b[39;00m\n\u001b[0;32m--> 247\u001b[0m \u001b[38;5;28;01mraise\u001b[39;00m exception_class(message, screen, stacktrace)\n",
      "\u001b[0;31mNoSuchElementException\u001b[0m: Message: no such element: Unable to locate element: {\"method\":\"xpath\",\"selector\":\"/html/body/div[1]/section/main/div/div/article/\n                div[3]/section[2]/div/span/span\"}\n  (Session info: chrome=103.0.5060.114)\nStacktrace:\n0   chromedriver                        0x00000001098e6079 chromedriver + 4444281\n1   chromedriver                        0x0000000109872403 chromedriver + 3970051\n2   chromedriver                        0x000000010950d038 chromedriver + 409656\n3   chromedriver                        0x00000001095432fd chromedriver + 631549\n4   chromedriver                        0x0000000109543581 chromedriver + 632193\n5   chromedriver                        0x00000001095754f4 chromedriver + 836852\n6   chromedriver                        0x00000001095607bd chromedriver + 751549\n7   chromedriver                        0x0000000109573221 chromedriver + 827937\n8   chromedriver                        0x0000000109560683 chromedriver + 751235\n9   chromedriver                        0x0000000109536a45 chromedriver + 580165\n10  chromedriver                        0x0000000109537a95 chromedriver + 584341\n11  chromedriver                        0x00000001098b755d chromedriver + 4253021\n12  chromedriver                        0x00000001098bc3a1 chromedriver + 4273057\n13  chromedriver                        0x00000001098c116f chromedriver + 4292975\n14  chromedriver                        0x00000001098bcdea chromedriver + 4275690\n15  chromedriver                        0x000000010989654f chromedriver + 4117839\n16  chromedriver                        0x00000001098d6ed8 chromedriver + 4382424\n17  chromedriver                        0x00000001098d705f chromedriver + 4382815\n18  chromedriver                        0x00000001098ed8d5 chromedriver + 4475093\n19  libsystem_pthread.dylib             0x00007fff706b0109 _pthread_start + 148\n20  libsystem_pthread.dylib             0x00007fff706abb8b thread_start + 15\n"
     ]
    }
   ],
   "source": [
    "def insta_link_details(url):\n",
    "    \"\"\"\n",
    "    Take a post url and return post details\n",
    "    Args:\n",
    "    urls: a list of urls for Instagram posts \n",
    "    Returns:\n",
    "    A list of dictionaries with details for each Instagram post, including link,\n",
    "    post type, like/view count, age (when posted), and initial comment\n",
    "    \"\"\"\n",
    "\n",
    "    driver.get(url)\n",
    "    \n",
    "    try:\n",
    "        # This captures the standard like count.\n",
    "        likes = driver.find_element_by_partial_link_text(' likes').text\n",
    "        post_type = 'photo'\n",
    "        \n",
    "    except:\n",
    "        # This captures the like count for videos which is stored\n",
    "        likes = driver.find_element_by_xpath(\n",
    "            \"\"\"/html/body/div[1]/section/main/div/div/article/\n",
    "                div[3]/section[2]/div/span/span\"\"\").text.split()[0]\n",
    "        post_type = 'video'\n",
    "    age = driver.find_element_by_css_selector('a time').text\n",
    "    comment = driver.find_element_by_xpath(\n",
    "        \"\"\"/html/body/div[1]/section/main/div/div[1]/article/\n",
    "        div[3]/div[1]/ul/div/li/div/div/div[2]/span\"\"\").text\n",
    "    \n",
    "    \n",
    "    post_details = {'link': url, 'type': post_type, 'likes/views': likes,\n",
    "                    'age': age, 'comment': comment}\n",
    "    time.sleep(10)\n",
    "    return post_details\n",
    "\n",
    "insta_link_details(mob_posts[0])"
   ]
  },
  {
   "cell_type": "code",
   "execution_count": null,
   "id": "2bd20ee8",
   "metadata": {},
   "outputs": [],
   "source": []
  }
 ],
 "metadata": {
  "kernelspec": {
   "display_name": "Python 3 (ipykernel)",
   "language": "python",
   "name": "python3"
  },
  "language_info": {
   "codemirror_mode": {
    "name": "ipython",
    "version": 3
   },
   "file_extension": ".py",
   "mimetype": "text/x-python",
   "name": "python",
   "nbconvert_exporter": "python",
   "pygments_lexer": "ipython3",
   "version": "3.9.7"
  }
 },
 "nbformat": 4,
 "nbformat_minor": 5
}
