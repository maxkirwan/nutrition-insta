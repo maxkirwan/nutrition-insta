{
 "cells": [
  {
   "cell_type": "markdown",
   "id": "35a13752",
   "metadata": {},
   "source": [
    "# Using the NER model to get unique ingredients from a post"
   ]
  },
  {
   "cell_type": "code",
   "execution_count": 1,
   "id": "df5ec31c",
   "metadata": {},
   "outputs": [],
   "source": [
    "import sys\n",
    "sys.path.append(\"/Users/maxkirwan/Desktop/Uni/Data Science MSc/Data Science Project/nutrition-insta\")\n",
    "import functions\n",
    "\n",
    "import numpy as np\n",
    "import pandas as pd\n",
    "import re"
   ]
  },
  {
   "cell_type": "code",
   "execution_count": 2,
   "id": "c29325e2",
   "metadata": {},
   "outputs": [],
   "source": [
    "posts1 = pd.read_csv(\"/Users/maxkirwan/Desktop/Uni/Data Science MSc/Data Science Project/nutrition-insta/Instagram Data Scraping/Phantom Buster/recipe_posts.csv\")\n",
    "posts2 = pd.read_csv(\"/Users/maxkirwan/Desktop/Uni/Data Science MSc/Data Science Project/nutrition-insta/Instagram Data Scraping/Phantom Buster/recipe_posts_2.csv\")\n",
    "posts3 = pd.read_csv(\"/Users/maxkirwan/Desktop/Uni/Data Science MSc/Data Science Project/nutrition-insta/Instagram Data Scraping/Phantom Buster/recipe_posts_3.csv\")\n",
    "\n",
    "posts = pd.concat([posts1,posts2,posts3])"
   ]
  },
  {
   "cell_type": "code",
   "execution_count": 3,
   "id": "d2a44a93",
   "metadata": {},
   "outputs": [],
   "source": [
    "# Removing duplicate posts\n",
    "posts = functions.remove_duplicates(posts)"
   ]
  },
  {
   "cell_type": "code",
   "execution_count": 4,
   "id": "6afd7f68",
   "metadata": {},
   "outputs": [
    {
     "name": "stdout",
     "output_type": "stream",
     "text": [
      "Detecting language of each post...\n",
      "Language detection complete.\n",
      "Time taken: 0:07:39.214400\n"
     ]
    }
   ],
   "source": [
    "# Getting english posts\n",
    "posts = functions.get_english_posts(posts)"
   ]
  },
  {
   "cell_type": "code",
   "execution_count": 5,
   "id": "85be86a5",
   "metadata": {},
   "outputs": [],
   "source": [
    "# Preprocessing text descriptions\n",
    "posts['description_preprocessed'] = posts['description'].apply(functions.preprocess_text)"
   ]
  },
  {
   "cell_type": "code",
   "execution_count": 7,
   "id": "b95d136d",
   "metadata": {},
   "outputs": [
    {
     "ename": "NameError",
     "evalue": "name 'nlp' is not defined",
     "output_type": "error",
     "traceback": [
      "\u001b[0;31m---------------------------------------------------------------------------\u001b[0m",
      "\u001b[0;31mNameError\u001b[0m                                 Traceback (most recent call last)",
      "Input \u001b[0;32mIn [7]\u001b[0m, in \u001b[0;36m<module>\u001b[0;34m\u001b[0m\n\u001b[1;32m      1\u001b[0m \u001b[38;5;66;03m# Using NER model to add unique ingredients list to df\u001b[39;00m\n\u001b[0;32m----> 2\u001b[0m posts \u001b[38;5;241m=\u001b[39m \u001b[43mfunctions\u001b[49m\u001b[38;5;241;43m.\u001b[39;49m\u001b[43minclude_unique_ingredients\u001b[49m\u001b[43m(\u001b[49m\u001b[43mposts\u001b[49m\u001b[43m,\u001b[49m\u001b[43m \u001b[49m\u001b[38;5;124;43m\"\u001b[39;49m\u001b[38;5;124;43m./model-best\u001b[39;49m\u001b[38;5;124;43m\"\u001b[39;49m\u001b[43m)\u001b[49m\n",
      "File \u001b[0;32m~/Desktop/Uni/Data Science MSc/Data Science Project/nutrition-insta/functions.py:212\u001b[0m, in \u001b[0;36minclude_unique_ingredients\u001b[0;34m(df, model)\u001b[0m\n\u001b[1;32m    208\u001b[0m \u001b[38;5;28;01mdef\u001b[39;00m \u001b[38;5;21minclude_unique_ingredients\u001b[39m(df, model):\n\u001b[1;32m    210\u001b[0m     nlp \u001b[38;5;241m=\u001b[39m spacy\u001b[38;5;241m.\u001b[39mload(model)\n\u001b[0;32m--> 212\u001b[0m     df[\u001b[38;5;124m'\u001b[39m\u001b[38;5;124munique_ingredients\u001b[39m\u001b[38;5;124m'\u001b[39m] \u001b[38;5;241m=\u001b[39m \u001b[43mdf\u001b[49m\u001b[43m[\u001b[49m\u001b[38;5;124;43m'\u001b[39;49m\u001b[38;5;124;43mdescription_preprocessed\u001b[39;49m\u001b[38;5;124;43m'\u001b[39;49m\u001b[43m]\u001b[49m\u001b[38;5;241;43m.\u001b[39;49m\u001b[43mapply\u001b[49m\u001b[43m(\u001b[49m\u001b[43mget_unique_ingredients\u001b[49m\u001b[43m)\u001b[49m\n\u001b[1;32m    214\u001b[0m     \u001b[38;5;28;01mreturn\u001b[39;00m df\n",
      "File \u001b[0;32m~/opt/miniconda3/envs/data_analytics/lib/python3.9/site-packages/pandas/core/series.py:4433\u001b[0m, in \u001b[0;36mSeries.apply\u001b[0;34m(self, func, convert_dtype, args, **kwargs)\u001b[0m\n\u001b[1;32m   4323\u001b[0m \u001b[38;5;28;01mdef\u001b[39;00m \u001b[38;5;21mapply\u001b[39m(\n\u001b[1;32m   4324\u001b[0m     \u001b[38;5;28mself\u001b[39m,\n\u001b[1;32m   4325\u001b[0m     func: AggFuncType,\n\u001b[0;32m   (...)\u001b[0m\n\u001b[1;32m   4328\u001b[0m     \u001b[38;5;241m*\u001b[39m\u001b[38;5;241m*\u001b[39mkwargs,\n\u001b[1;32m   4329\u001b[0m ) \u001b[38;5;241m-\u001b[39m\u001b[38;5;241m>\u001b[39m DataFrame \u001b[38;5;241m|\u001b[39m Series:\n\u001b[1;32m   4330\u001b[0m     \u001b[38;5;124;03m\"\"\"\u001b[39;00m\n\u001b[1;32m   4331\u001b[0m \u001b[38;5;124;03m    Invoke function on values of Series.\u001b[39;00m\n\u001b[1;32m   4332\u001b[0m \n\u001b[0;32m   (...)\u001b[0m\n\u001b[1;32m   4431\u001b[0m \u001b[38;5;124;03m    dtype: float64\u001b[39;00m\n\u001b[1;32m   4432\u001b[0m \u001b[38;5;124;03m    \"\"\"\u001b[39;00m\n\u001b[0;32m-> 4433\u001b[0m     \u001b[38;5;28;01mreturn\u001b[39;00m \u001b[43mSeriesApply\u001b[49m\u001b[43m(\u001b[49m\u001b[38;5;28;43mself\u001b[39;49m\u001b[43m,\u001b[49m\u001b[43m \u001b[49m\u001b[43mfunc\u001b[49m\u001b[43m,\u001b[49m\u001b[43m \u001b[49m\u001b[43mconvert_dtype\u001b[49m\u001b[43m,\u001b[49m\u001b[43m \u001b[49m\u001b[43margs\u001b[49m\u001b[43m,\u001b[49m\u001b[43m \u001b[49m\u001b[43mkwargs\u001b[49m\u001b[43m)\u001b[49m\u001b[38;5;241;43m.\u001b[39;49m\u001b[43mapply\u001b[49m\u001b[43m(\u001b[49m\u001b[43m)\u001b[49m\n",
      "File \u001b[0;32m~/opt/miniconda3/envs/data_analytics/lib/python3.9/site-packages/pandas/core/apply.py:1088\u001b[0m, in \u001b[0;36mSeriesApply.apply\u001b[0;34m(self)\u001b[0m\n\u001b[1;32m   1084\u001b[0m \u001b[38;5;28;01mif\u001b[39;00m \u001b[38;5;28misinstance\u001b[39m(\u001b[38;5;28mself\u001b[39m\u001b[38;5;241m.\u001b[39mf, \u001b[38;5;28mstr\u001b[39m):\n\u001b[1;32m   1085\u001b[0m     \u001b[38;5;66;03m# if we are a string, try to dispatch\u001b[39;00m\n\u001b[1;32m   1086\u001b[0m     \u001b[38;5;28;01mreturn\u001b[39;00m \u001b[38;5;28mself\u001b[39m\u001b[38;5;241m.\u001b[39mapply_str()\n\u001b[0;32m-> 1088\u001b[0m \u001b[38;5;28;01mreturn\u001b[39;00m \u001b[38;5;28;43mself\u001b[39;49m\u001b[38;5;241;43m.\u001b[39;49m\u001b[43mapply_standard\u001b[49m\u001b[43m(\u001b[49m\u001b[43m)\u001b[49m\n",
      "File \u001b[0;32m~/opt/miniconda3/envs/data_analytics/lib/python3.9/site-packages/pandas/core/apply.py:1143\u001b[0m, in \u001b[0;36mSeriesApply.apply_standard\u001b[0;34m(self)\u001b[0m\n\u001b[1;32m   1137\u001b[0m         values \u001b[38;5;241m=\u001b[39m obj\u001b[38;5;241m.\u001b[39mastype(\u001b[38;5;28mobject\u001b[39m)\u001b[38;5;241m.\u001b[39m_values\n\u001b[1;32m   1138\u001b[0m         \u001b[38;5;66;03m# error: Argument 2 to \"map_infer\" has incompatible type\u001b[39;00m\n\u001b[1;32m   1139\u001b[0m         \u001b[38;5;66;03m# \"Union[Callable[..., Any], str, List[Union[Callable[..., Any], str]],\u001b[39;00m\n\u001b[1;32m   1140\u001b[0m         \u001b[38;5;66;03m# Dict[Hashable, Union[Union[Callable[..., Any], str],\u001b[39;00m\n\u001b[1;32m   1141\u001b[0m         \u001b[38;5;66;03m# List[Union[Callable[..., Any], str]]]]]\"; expected\u001b[39;00m\n\u001b[1;32m   1142\u001b[0m         \u001b[38;5;66;03m# \"Callable[[Any], Any]\"\u001b[39;00m\n\u001b[0;32m-> 1143\u001b[0m         mapped \u001b[38;5;241m=\u001b[39m \u001b[43mlib\u001b[49m\u001b[38;5;241;43m.\u001b[39;49m\u001b[43mmap_infer\u001b[49m\u001b[43m(\u001b[49m\n\u001b[1;32m   1144\u001b[0m \u001b[43m            \u001b[49m\u001b[43mvalues\u001b[49m\u001b[43m,\u001b[49m\n\u001b[1;32m   1145\u001b[0m \u001b[43m            \u001b[49m\u001b[43mf\u001b[49m\u001b[43m,\u001b[49m\u001b[43m  \u001b[49m\u001b[38;5;66;43;03m# type: ignore[arg-type]\u001b[39;49;00m\n\u001b[1;32m   1146\u001b[0m \u001b[43m            \u001b[49m\u001b[43mconvert\u001b[49m\u001b[38;5;241;43m=\u001b[39;49m\u001b[38;5;28;43mself\u001b[39;49m\u001b[38;5;241;43m.\u001b[39;49m\u001b[43mconvert_dtype\u001b[49m\u001b[43m,\u001b[49m\n\u001b[1;32m   1147\u001b[0m \u001b[43m        \u001b[49m\u001b[43m)\u001b[49m\n\u001b[1;32m   1149\u001b[0m \u001b[38;5;28;01mif\u001b[39;00m \u001b[38;5;28mlen\u001b[39m(mapped) \u001b[38;5;129;01mand\u001b[39;00m \u001b[38;5;28misinstance\u001b[39m(mapped[\u001b[38;5;241m0\u001b[39m], ABCSeries):\n\u001b[1;32m   1150\u001b[0m     \u001b[38;5;66;03m# GH#43986 Need to do list(mapped) in order to get treated as nested\u001b[39;00m\n\u001b[1;32m   1151\u001b[0m     \u001b[38;5;66;03m#  See also GH#25959 regarding EA support\u001b[39;00m\n\u001b[1;32m   1152\u001b[0m     \u001b[38;5;28;01mreturn\u001b[39;00m obj\u001b[38;5;241m.\u001b[39m_constructor_expanddim(\u001b[38;5;28mlist\u001b[39m(mapped), index\u001b[38;5;241m=\u001b[39mobj\u001b[38;5;241m.\u001b[39mindex)\n",
      "File \u001b[0;32m~/opt/miniconda3/envs/data_analytics/lib/python3.9/site-packages/pandas/_libs/lib.pyx:2870\u001b[0m, in \u001b[0;36mpandas._libs.lib.map_infer\u001b[0;34m()\u001b[0m\n",
      "File \u001b[0;32m~/Desktop/Uni/Data Science MSc/Data Science Project/nutrition-insta/functions.py:186\u001b[0m, in \u001b[0;36mget_unique_ingredients\u001b[0;34m(text)\u001b[0m\n\u001b[1;32m    184\u001b[0m \u001b[38;5;28;01mdef\u001b[39;00m \u001b[38;5;21mget_unique_ingredients\u001b[39m(text):\n\u001b[0;32m--> 186\u001b[0m     doc \u001b[38;5;241m=\u001b[39m \u001b[43mnlp\u001b[49m(text)\n\u001b[1;32m    187\u001b[0m     ingredients \u001b[38;5;241m=\u001b[39m []\n\u001b[1;32m    188\u001b[0m     ingredients_singularized \u001b[38;5;241m=\u001b[39m []\n",
      "\u001b[0;31mNameError\u001b[0m: name 'nlp' is not defined"
     ]
    }
   ],
   "source": [
    "# Using NER model to add unique ingredients list to df\n",
    "posts = functions.include_unique_ingredients(posts, \"./model-best\")"
   ]
  },
  {
   "cell_type": "code",
   "execution_count": 8,
   "id": "02343169",
   "metadata": {},
   "outputs": [],
   "source": [
    "def get_unique_ingredients(text, model):\n",
    "    \n",
    "    nlp = spacy.load(model)\n",
    "    doc = nlp(text)\n",
    "    \n",
    "    ingredients = []\n",
    "    ingredients_singularized = []\n",
    "    \n",
    "    for entity in doc.ents:\n",
    "        if entity.label_ == 'INGREDIENT':\n",
    "            ingredients.append(entity.text)\n",
    "\n",
    "    ingredients = np.unique(ingredients)\n",
    "    \n",
    "    # Singularizing ingredients using inflect python package\n",
    "    p = inflect.engine()\n",
    "    for word in ingredients:\n",
    "        if p.singular_noun(word):\n",
    "            ingredients_singularized.append(p.singular_noun(word))\n",
    "        else:\n",
    "            ingredients_singularized.append(word)\n",
    "            \n",
    "    return np.unique(ingredients_singularized)"
   ]
  },
  {
   "cell_type": "code",
   "execution_count": 12,
   "id": "12743b30",
   "metadata": {},
   "outputs": [
    {
     "data": {
      "text/plain": [
       "'chocolate fudge protein oatmeal \\ningredients:\\n1/2 cup instant oats\\n1/2 cup milk\\n1/2 cup water\\n1 scoop chocolate protein powder\\n1 teaspoon brown sugar\\n\\ntoppings:\\n1 tablespoon peanut butter\\n1 tablespoon chocolate spread\\n1/2 a banana\\nprotein bar .in'"
      ]
     },
     "execution_count": 12,
     "metadata": {},
     "output_type": "execute_result"
    }
   ],
   "source": [
    "pd.read_csv('preprocessed_descriptions.csv').loc[0,'description_preprocessed']"
   ]
  },
  {
   "cell_type": "code",
   "execution_count": 16,
   "id": "7cd9ccfe",
   "metadata": {},
   "outputs": [],
   "source": [
    "import spacy, inflect"
   ]
  },
  {
   "cell_type": "code",
   "execution_count": 17,
   "id": "51a04221",
   "metadata": {},
   "outputs": [
    {
     "data": {
      "text/plain": [
       "array(['banana', 'milk', 'oat', 'peanut butter', 'sugar', 'water'],\n",
       "      dtype='<U13')"
      ]
     },
     "execution_count": 17,
     "metadata": {},
     "output_type": "execute_result"
    }
   ],
   "source": [
    "get_unique_ingredients(pd.read_csv('preprocessed_descriptions.csv').loc[0,'description_preprocessed'], \"./model-best\")"
   ]
  },
  {
   "cell_type": "code",
   "execution_count": 19,
   "id": "be28a411",
   "metadata": {},
   "outputs": [],
   "source": [
    "test_df = pd.read_csv('preprocessed_descriptions.csv')\n",
    "test_df['unique_ingredients'] = test_df['description_preprocessed'].apply(get_unique_ingredients, args=(\"./model-best\",))"
   ]
  },
  {
   "cell_type": "code",
   "execution_count": 30,
   "id": "b81687c9",
   "metadata": {},
   "outputs": [
    {
     "name": "stdout",
     "output_type": "stream",
     "text": [
      "sausage, mushroom & brie egg bake\n",
      "\n",
      "ingredients:\n",
      "- 16 ounce mild italian sausage\n",
      "- 2 cup mushroom (sliced)\n",
      "- 1 small red onion (diced)\n",
      "- 1 clove minced garlic\n",
      "- 4 cup spinach\n",
      "- 1 cup brie cheese (cubed)\n",
      "- 10 eggs\n",
      "- 1/2 cup milk\n",
      "- 1 1 /2 teaspoon garlic powder\n",
      "- 1 1 /2 teaspoon onion powder\n",
      "- 1 teaspoon green goddess seasoning (can omit)\n",
      "- salt\n",
      "- pepper\n",
      "- 1 can crescent roll\n",
      "\n",
      "steps:\n",
      "1 . start by preheating the oven to 350 degrees. while the oven is preheating, brown the sausage, slice the mushrooms, and dice the onion.\n",
      "2 . once the sausage is done, set aside and add the mushroom, onion, and garlic to the pan with the grease from the sausage. stir frequently until it is all soft and fragrant, then add in the spinach until it is wilted. set aside.\n",
      "3 . next dice up the brie cheese into cubes and also set aside. grab a medium sized bowl and add the eggs, milk, garlic powder, onion powder, salt, pepper, and green goddess seasoning. mix until well combined.\n",
      "4 . once everything is has been prepped it’s time to assemble the bake. start by adding the crescent roll to the base layer of a 9 x 12 baking dish. next follow with the browned sausage, the sautéed veggies, and the brie cheese. finally top it all with the egg mixture.\n",
      "5 . bake at 350 degrees for 40-45 minutes, or until a toothpick comes out clean in the middle. serve with avocado and your favorite hot sauce!\n",
      "\n",
      "enjoy!\n",
      "['cheese' 'egg' 'garlic' 'garlic powder' 'milk' 'onion' 'pepper'\n",
      " 'red onion' 'salt' 'sausage']\n"
     ]
    }
   ],
   "source": [
    "print(test_df.loc[200, 'description_preprocessed'])\n",
    "print(test_df.loc[200, 'unique_ingredients'])"
   ]
  },
  {
   "cell_type": "code",
   "execution_count": 33,
   "id": "11302d26",
   "metadata": {},
   "outputs": [
    {
     "name": "stdout",
     "output_type": "stream",
     "text": [
      "121\n",
      "285\n"
     ]
    }
   ],
   "source": [
    "for index, post in enumerate(test_df['description_preprocessed']):\n",
    "    if \"what could be better in summer \" in post:\n",
    "        print(index)"
   ]
  },
  {
   "cell_type": "code",
   "execution_count": 38,
   "id": "17a989e4",
   "metadata": {},
   "outputs": [
    {
     "data": {
      "text/plain": [
       "['cheese',\n",
       " 'chili',\n",
       " 'cream',\n",
       " 'funnel',\n",
       " 'garlic powder',\n",
       " 'oregano',\n",
       " 'paprika',\n",
       " 'pepper',\n",
       " 'salt',\n",
       " 'yogurt']"
      ]
     },
     "execution_count": 38,
     "metadata": {},
     "output_type": "execute_result"
    }
   ],
   "source": [
    "list(test_df['unique_ingredients'][121])"
   ]
  },
  {
   "cell_type": "code",
   "execution_count": 40,
   "id": "a4125793",
   "metadata": {},
   "outputs": [
    {
     "name": "stdout",
     "output_type": "stream",
     "text": [
      "what could be better in summer than a bbq with your favorite people? we've brought you a particularly cool recipe idea for this: pulled pork carnitas with our homemade sour cream sauce! \n",
      "\n",
      "ingredients:\n",
      "- 250 gram sour cream\n",
      "- 100 gram mayonnaise (min. 50 % fat)\n",
      "- 100 gram cream cheese\n",
      "- 50 gram yogurt 3.2 %\n",
      "- 1/2 teaspoon smoked paprika powder\n",
      "- 1/2 teaspoon chili cayenne\n",
      "- 1 teaspoon ground cumin\n",
      "- 1/2 teaspoon garlic powder\n",
      "- 1 tablespoon dried oregano\n",
      "- juice of 1/4 lime\n",
      "- salt & pepper\n",
      "\n",
      "preparation:\n",
      " blend all ingredients finely with a hand blender or in a stand mixer.\n",
      "then pour the entire mixture through isi funnel & sieve into a 0.5 litre isi whip. screw on an isi professional charger and shake vigorously 12-14 times.\n"
     ]
    }
   ],
   "source": [
    "print(test_df['description_preprocessed'][121])"
   ]
  },
  {
   "cell_type": "code",
   "execution_count": null,
   "id": "2b55a642",
   "metadata": {},
   "outputs": [],
   "source": []
  }
 ],
 "metadata": {
  "kernelspec": {
   "display_name": "Python 3 (ipykernel)",
   "language": "python",
   "name": "python3"
  },
  "language_info": {
   "codemirror_mode": {
    "name": "ipython",
    "version": 3
   },
   "file_extension": ".py",
   "mimetype": "text/x-python",
   "name": "python",
   "nbconvert_exporter": "python",
   "pygments_lexer": "ipython3",
   "version": "3.9.7"
  }
 },
 "nbformat": 4,
 "nbformat_minor": 5
}
