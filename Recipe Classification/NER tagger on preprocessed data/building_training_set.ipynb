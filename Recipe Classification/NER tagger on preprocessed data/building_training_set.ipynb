{
 "cells": [
  {
   "cell_type": "markdown",
   "id": "107e7c46",
   "metadata": {},
   "source": [
    "# Preparing training set for annotation"
   ]
  },
  {
   "cell_type": "code",
   "execution_count": 2,
   "id": "58809003",
   "metadata": {},
   "outputs": [],
   "source": [
    "import sys\n",
    "sys.path.append(\"/Users/maxkirwan/Desktop/Uni/Data Science MSc/Data Science Project/nutrition-insta\")\n",
    "import functions\n",
    "\n",
    "import numpy as np\n",
    "import pandas as pd"
   ]
  },
  {
   "cell_type": "code",
   "execution_count": 3,
   "id": "ff476f6d",
   "metadata": {},
   "outputs": [],
   "source": [
    "posts1 = pd.read_csv(\"/Users/maxkirwan/Desktop/Uni/Data Science MSc/Data Science Project/nutrition-insta/Instagram Data Scraping/Phantom Buster/recipe_posts.csv\")\n",
    "posts2 = pd.read_csv(\"/Users/maxkirwan/Desktop/Uni/Data Science MSc/Data Science Project/nutrition-insta/Instagram Data Scraping/Phantom Buster/recipe_posts_2.csv\")\n",
    "\n",
    "posts = pd.concat([posts1,posts2])"
   ]
  },
  {
   "cell_type": "code",
   "execution_count": 4,
   "id": "5689f5e1",
   "metadata": {},
   "outputs": [
    {
     "name": "stdout",
     "output_type": "stream",
     "text": [
      "Detecting language of each post...\n",
      "Language detection complete.\n",
      "Time taken: 0:05:58.923552\n"
     ]
    }
   ],
   "source": [
    "# Getting english posts\n",
    "posts = functions.get_english_posts(posts)"
   ]
  },
  {
   "cell_type": "code",
   "execution_count": null,
   "id": "6466edba",
   "metadata": {},
   "outputs": [],
   "source": [
    "# Preprocessing text descriptions\n",
    "posts['description_preprocessed'] = posts['description'].apply(functions.preprocess_text)"
   ]
  },
  {
   "cell_type": "code",
   "execution_count": null,
   "id": "32f28785",
   "metadata": {},
   "outputs": [],
   "source": [
    "iterator = 0\n",
    "for index, post in enumerate(posts[posts['includes_ingredient_list']]['description_preprocessed']):\n",
    "    if \"ingredients:\" in post or \"ingredients :\" in post:\n",
    "        iterator += 1\n",
    "        print(index)\n",
    "        print(post)\n",
    "        print(\"\\n-----------\\n\")\n",
    "print(iterator)"
   ]
  },
  {
   "cell_type": "markdown",
   "id": "6b30a1aa",
   "metadata": {},
   "source": [
    "# Plan for tomorrow... please delete\n",
    "\n",
    "Use above cell to prepare csv of post descriptions for annotations"
   ]
  },
  {
   "cell_type": "code",
   "execution_count": null,
   "id": "7c54c4b9",
   "metadata": {},
   "outputs": [],
   "source": []
  }
 ],
 "metadata": {
  "kernelspec": {
   "display_name": "Python 3 (ipykernel)",
   "language": "python",
   "name": "python3"
  },
  "language_info": {
   "codemirror_mode": {
    "name": "ipython",
    "version": 3
   },
   "file_extension": ".py",
   "mimetype": "text/x-python",
   "name": "python",
   "nbconvert_exporter": "python",
   "pygments_lexer": "ipython3",
   "version": "3.9.7"
  }
 },
 "nbformat": 4,
 "nbformat_minor": 5
}
