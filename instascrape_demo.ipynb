{
 "cells": [
  {
   "cell_type": "markdown",
   "id": "13933440",
   "metadata": {},
   "source": [
    "# Using instascrape to scrape data from Instagram"
   ]
  },
  {
   "cell_type": "code",
   "execution_count": 8,
   "id": "95dfda91",
   "metadata": {},
   "outputs": [],
   "source": [
    "import instascrape\n",
    "import requests"
   ]
  },
  {
   "cell_type": "code",
   "execution_count": 2,
   "id": "50df1fb6",
   "metadata": {},
   "outputs": [
    {
     "name": "stderr",
     "output_type": "stream",
     "text": [
      "/Users/maxkirwan/opt/miniconda3/envs/data_analytics/lib/python3.9/site-packages/instascrape/core/_static_scraper.py:134: MissingCookiesWarning: Request header does not contain cookies! It's recommended you pass at least a valid sessionid otherwise Instagram will likely redirect you to their login page.\n",
      "  warnings.warn(\n"
     ]
    }
   ],
   "source": [
    "max_kirwan = instascrape.Profile('max_kirwan')\n",
    "max_kirwan.scrape()"
   ]
  },
  {
   "cell_type": "code",
   "execution_count": 7,
   "id": "66647f0e",
   "metadata": {},
   "outputs": [
    {
     "data": {
      "text/plain": [
       "[]"
      ]
     },
     "execution_count": 7,
     "metadata": {},
     "output_type": "execute_result"
    }
   ],
   "source": [
    "max_kirwan.get_recent_posts()"
   ]
  },
  {
   "cell_type": "code",
   "execution_count": 9,
   "id": "cf31543c",
   "metadata": {},
   "outputs": [
    {
     "data": {
      "text/plain": [
       "{'logging_page_id': 'profilePage_342172124',\n",
       " 'show_suggested_profiles': False,\n",
       " 'show_follow_dialog': nan,\n",
       " 'biography': '23, winch, bristol',\n",
       " 'blocked_by_viewer': False,\n",
       " 'restricted_by_viewer': None,\n",
       " 'country_block': False,\n",
       " 'external_url': None,\n",
       " 'external_url_linkshimmed': None,\n",
       " 'followers': 728,\n",
       " 'followed_by_viewer': False,\n",
       " 'following': 746,\n",
       " 'follows_viewer': False,\n",
       " 'full_name': nan,\n",
       " 'has_ar_effects': False,\n",
       " 'has_clips': False,\n",
       " 'has_guides': False,\n",
       " 'has_channel': False,\n",
       " 'has_blocked_viewer': False,\n",
       " 'highlight_reel_count': 0,\n",
       " 'has_requested_viewer': False,\n",
       " 'id': '342172124',\n",
       " 'is_business_account': False,\n",
       " 'is_joined_recently': False,\n",
       " 'business_category_name': None,\n",
       " 'overall_category_name': None,\n",
       " 'category_enum': None,\n",
       " 'is_private': True,\n",
       " 'is_verified': False,\n",
       " 'mutual_followers': 0,\n",
       " 'profile_pic_url': 'https://scontent-lhr8-1.cdninstagram.com/v/t51.2885-19/41282267_249017702466187_4283425434680426496_n.jpg?stp=dst-jpg_s150x150&_nc_ht=scontent-lhr8-1.cdninstagram.com&_nc_cat=107&_nc_ohc=gdZRScW6-GIAX9tz4yO&edm=ABfd0MgBAAAA&ccb=7-5&oh=00_AT_K0sGEx2oq2hDqePnZFFNoeEUZpuwAKn7gUsDVWxm_pw&oe=62A948B1&_nc_sid=7bff83',\n",
       " 'profile_pic_url_hd': 'https://scontent-lhr8-1.cdninstagram.com/v/t51.2885-19/41282267_249017702466187_4283425434680426496_n.jpg?stp=dst-jpg_s320x320&_nc_ht=scontent-lhr8-1.cdninstagram.com&_nc_cat=107&_nc_ohc=gdZRScW6-GIAX9tz4yO&edm=ABfd0MgBAAAA&ccb=7-5&oh=00_AT8p7Vq_WpmaxjTTV5n_tvr-g5zG6HG-arJYvdO9atPEOw&oe=62A948B1&_nc_sid=7bff83',\n",
       " 'requested_by_viewer': False,\n",
       " 'username': nan,\n",
       " 'connected_fb_page': None,\n",
       " 'posts': 222}"
      ]
     },
     "execution_count": 9,
     "metadata": {},
     "output_type": "execute_result"
    }
   ],
   "source": [
    "max_kirwan.to_dict()"
   ]
  },
  {
   "cell_type": "code",
   "execution_count": 15,
   "id": "7e415619",
   "metadata": {},
   "outputs": [
    {
     "name": "stderr",
     "output_type": "stream",
     "text": [
      "/Users/maxkirwan/opt/miniconda3/envs/data_analytics/lib/python3.9/site-packages/instascrape/core/_static_scraper.py:134: MissingCookiesWarning: Request header does not contain cookies! It's recommended you pass at least a valid sessionid otherwise Instagram will likely redirect you to their login page.\n",
      "  warnings.warn(\n"
     ]
    }
   ],
   "source": [
    "nutrition_hashtag = instascrape.Hashtag('nutrition')\n",
    "nutrition_hashtag.scrape()"
   ]
  },
  {
   "cell_type": "code",
   "execution_count": 17,
   "id": "9480143d",
   "metadata": {},
   "outputs": [
    {
     "data": {
      "text/plain": [
       "{'id': '17841562906122799',\n",
       " 'name': 'nutrition',\n",
       " 'allow_following': False,\n",
       " 'is_following': False,\n",
       " 'is_top_media_only': False,\n",
       " 'profile_pic_url': 'https://scontent-lhr8-1.cdninstagram.com/v/t51.2885-15/286231859_4879482888827763_2529580305480759078_n.jpg?stp=c0.135.1080.1080a_dst-jpg_e35_s150x150&_nc_ht=scontent-lhr8-1.cdninstagram.com&_nc_cat=103&_nc_ohc=LVEET3IW0TgAX_aDzGo&edm=ABZsPhsBAAAA&ccb=7-5&ig_cache_key=Mjg1NjAzMDY2ODY2MTY3NjIyOA%3D%3D.2.c-ccb7-5&oh=00_AT-XR7HoO30XKGsE3etCTCkQmumFVaDei_7DxVq1nFqS5w&oe=62A8B321&_nc_sid=4efc9f',\n",
       " 'amount_of_posts': 60054800}"
      ]
     },
     "execution_count": 17,
     "metadata": {},
     "output_type": "execute_result"
    }
   ],
   "source": [
    "nutrition_hashtag.to_dict()"
   ]
  },
  {
   "cell_type": "code",
   "execution_count": 18,
   "id": "e45e947b",
   "metadata": {},
   "outputs": [
    {
     "name": "stderr",
     "output_type": "stream",
     "text": [
      "/Users/maxkirwan/opt/miniconda3/envs/data_analytics/lib/python3.9/site-packages/instascrape/core/_static_scraper.py:134: MissingCookiesWarning: Request header does not contain cookies! It's recommended you pass at least a valid sessionid otherwise Instagram will likely redirect you to their login page.\n",
      "  warnings.warn(\n"
     ]
    }
   ],
   "source": [
    "google = instascrape.Profile('google')\n",
    "google.scrape()"
   ]
  },
  {
   "cell_type": "code",
   "execution_count": 21,
   "id": "2ddd7b58",
   "metadata": {},
   "outputs": [],
   "source": [
    "google_posts = google.get_recent_posts()"
   ]
  },
  {
   "cell_type": "code",
   "execution_count": 27,
   "id": "eaab2292",
   "metadata": {},
   "outputs": [
    {
     "data": {
      "text/plain": [
       "{'id': '2856136183005783611',\n",
       " 'shortcode': 'CejCLnaMyY7',\n",
       " 'dimensions': nan,\n",
       " 'display_url': 'https://scontent-lhr8-1.cdninstagram.com/v/t51.2885-15/286480870_754733879311269_4988921838244833999_n.webp?stp=dst-jpg_e35&_nc_ht=scontent-lhr8-1.cdninstagram.com&_nc_cat=109&_nc_ohc=7hsznvSkjJQAX92SaLz&edm=ABfd0MgBAAAA&ccb=7-5&ig_cache_key=Mjg1NjEzNjE3NjUxMjg0NzA2OA%3D%3D.2-ccb7-5&oh=00_AT-fnqjFdxQtZtcjIVyakk1nOGIv_wcI1a9vwNEvrCOirg&oe=62A99951&_nc_sid=7bff83',\n",
       " 'tagged_users': nan,\n",
       " 'fact_check_overall_rating': None,\n",
       " 'fact_check_information': None,\n",
       " 'is_video': False,\n",
       " 'accessibility_caption': None,\n",
       " 'caption': nan,\n",
       " 'comments': 32,\n",
       " 'comments_disabled': False,\n",
       " 'timestamp': 1654697986,\n",
       " 'likes': 6632,\n",
       " 'location': None,\n",
       " 'upload_date': datetime.datetime(2022, 6, 8, 15, 19, 46),\n",
       " 'username': 'google',\n",
       " 'full_name': 'Google'}"
      ]
     },
     "execution_count": 27,
     "metadata": {},
     "output_type": "execute_result"
    }
   ],
   "source": [
    "google_posts[1].to_dict()"
   ]
  },
  {
   "cell_type": "code",
   "execution_count": null,
   "id": "9b817a28",
   "metadata": {},
   "outputs": [],
   "source": []
  }
 ],
 "metadata": {
  "kernelspec": {
   "display_name": "Python 3 (ipykernel)",
   "language": "python",
   "name": "python3"
  },
  "language_info": {
   "codemirror_mode": {
    "name": "ipython",
    "version": 3
   },
   "file_extension": ".py",
   "mimetype": "text/x-python",
   "name": "python",
   "nbconvert_exporter": "python",
   "pygments_lexer": "ipython3",
   "version": "3.9.7"
  }
 },
 "nbformat": 4,
 "nbformat_minor": 5
}
